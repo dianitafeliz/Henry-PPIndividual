{
 "cells": [
  {
   "cell_type": "code",
   "execution_count": 47,
   "metadata": {},
   "outputs": [],
   "source": [
    "import pandas as pd\n",
    "import numpy as np\n",
    "import json\n",
    "from sklearn.feature_extraction.text import TfidfVectorizer\n",
    "from sklearn.metrics.pairwise import cosine_similarity\n",
    "\n"
   ]
  },
  {
   "cell_type": "code",
   "execution_count": 48,
   "metadata": {},
   "outputs": [],
   "source": [
    "# Rutas de los datasets originales\n",
    "ruta_credits = r'C:\\HENRY\\PROYECTOS HENRY 11\\Movies\\credits1.json'\n",
    "#ruta_credits_csv = r'C:\\HENRY\\PROYECTOS HENRY 11\\Movies\\movies_dataset.csv'\n",
    "ruta_movies = r'C:\\HENRY\\PROYECTOS HENRY 11\\Movies\\movies2.json'\n",
    "ruta_credits_reduce = r'C:\\HENRY\\PROYECTOS HENRY 11\\Primer Proyecto Individual\\Datasets\\newCredits.pkl'\n",
    "\n"
   ]
  },
  {
   "cell_type": "code",
   "execution_count": 49,
   "metadata": {},
   "outputs": [],
   "source": [
    "credits_lista = []\n",
    "with open(ruta_credits, 'rt', encoding='utf-8') as f:\n",
    "    for line_num, line in enumerate(f, 1):\n",
    "        line = line.strip()\n",
    "        if line:\n",
    "            try:\n",
    "                credits_lista.append(json.loads(line))\n",
    "            except json.JSONDecodeError as e:\n",
    "                print(f\"Error en la línea {line_num}: {line}\")\n",
    "                print(f\"Detalle del error: {e}\")\n",
    "df_credits = pd.DataFrame(credits_lista)\n"
   ]
  },
  {
   "cell_type": "code",
   "execution_count": 50,
   "metadata": {},
   "outputs": [
    {
     "data": {
      "text/html": [
       "<div>\n",
       "<style scoped>\n",
       "    .dataframe tbody tr th:only-of-type {\n",
       "        vertical-align: middle;\n",
       "    }\n",
       "\n",
       "    .dataframe tbody tr th {\n",
       "        vertical-align: top;\n",
       "    }\n",
       "\n",
       "    .dataframe thead th {\n",
       "        text-align: right;\n",
       "    }\n",
       "</style>\n",
       "<table border=\"1\" class=\"dataframe\">\n",
       "  <thead>\n",
       "    <tr style=\"text-align: right;\">\n",
       "      <th></th>\n",
       "      <th>Cast</th>\n",
       "      <th>Crew</th>\n",
       "      <th>id</th>\n",
       "    </tr>\n",
       "  </thead>\n",
       "  <tbody>\n",
       "    <tr>\n",
       "      <th>0</th>\n",
       "      <td>[{'cast_id': 14, 'character': 'Woody (voice)',...</td>\n",
       "      <td>[{'credit_id': '52fe4284c3a36847f8024f49', 'de...</td>\n",
       "      <td>862</td>\n",
       "    </tr>\n",
       "    <tr>\n",
       "      <th>1</th>\n",
       "      <td>[{'cast_id': 1, 'character': 'Alan Parrish', '...</td>\n",
       "      <td>[{'credit_id': '52fe44bfc3a36847f80a7cd1', 'de...</td>\n",
       "      <td>8844</td>\n",
       "    </tr>\n",
       "    <tr>\n",
       "      <th>2</th>\n",
       "      <td>[{'cast_id': 2, 'character': 'Max Goldman', 'c...</td>\n",
       "      <td>[{'credit_id': '52fe466a9251416c75077a89', 'de...</td>\n",
       "      <td>15602</td>\n",
       "    </tr>\n",
       "    <tr>\n",
       "      <th>3</th>\n",
       "      <td>[{'cast_id': 1, 'character': ''Savannah 'Vanna...</td>\n",
       "      <td>[{'credit_id': '52fe44779251416c91011acb', 'de...</td>\n",
       "      <td>31357</td>\n",
       "    </tr>\n",
       "    <tr>\n",
       "      <th>4</th>\n",
       "      <td>[{'cast_id': 1, 'character': 'George Banks', '...</td>\n",
       "      <td>[{'credit_id': '52fe44959251416c75039ed7', 'de...</td>\n",
       "      <td>11862</td>\n",
       "    </tr>\n",
       "  </tbody>\n",
       "</table>\n",
       "</div>"
      ],
      "text/plain": [
       "                                                Cast  \\\n",
       "0  [{'cast_id': 14, 'character': 'Woody (voice)',...   \n",
       "1  [{'cast_id': 1, 'character': 'Alan Parrish', '...   \n",
       "2  [{'cast_id': 2, 'character': 'Max Goldman', 'c...   \n",
       "3  [{'cast_id': 1, 'character': ''Savannah 'Vanna...   \n",
       "4  [{'cast_id': 1, 'character': 'George Banks', '...   \n",
       "\n",
       "                                                Crew     id  \n",
       "0  [{'credit_id': '52fe4284c3a36847f8024f49', 'de...    862  \n",
       "1  [{'credit_id': '52fe44bfc3a36847f80a7cd1', 'de...   8844  \n",
       "2  [{'credit_id': '52fe466a9251416c75077a89', 'de...  15602  \n",
       "3  [{'credit_id': '52fe44779251416c91011acb', 'de...  31357  \n",
       "4  [{'credit_id': '52fe44959251416c75039ed7', 'de...  11862  "
      ]
     },
     "execution_count": 50,
     "metadata": {},
     "output_type": "execute_result"
    }
   ],
   "source": [
    "df_credits.head()"
   ]
  },
  {
   "cell_type": "code",
   "execution_count": 51,
   "metadata": {},
   "outputs": [],
   "source": [
    "#df = pd.read_csv(ruta_credits_csv)\n",
    "#df.to_json('movies2.json', orient='records', lines=True)"
   ]
  },
  {
   "cell_type": "code",
   "execution_count": 52,
   "metadata": {},
   "outputs": [],
   "source": [
    "movies_lista = []\n",
    "with open(ruta_movies, 'rt', encoding='utf-8') as f:\n",
    "    for line_num, line in enumerate(f, 1):\n",
    "        line = line.strip()\n",
    "        if line:\n",
    "            try:\n",
    "                movies_lista.append(json.loads(line))\n",
    "            except json.JSONDecodeError as e:\n",
    "                print(f\"Error en la línea {line_num}: {line}\")\n",
    "                print(f\"Detalle del error: {e}\")\n",
    "df_movies = pd.DataFrame(movies_lista)\n"
   ]
  },
  {
   "cell_type": "code",
   "execution_count": 53,
   "metadata": {},
   "outputs": [
    {
     "data": {
      "text/html": [
       "<div>\n",
       "<style scoped>\n",
       "    .dataframe tbody tr th:only-of-type {\n",
       "        vertical-align: middle;\n",
       "    }\n",
       "\n",
       "    .dataframe tbody tr th {\n",
       "        vertical-align: top;\n",
       "    }\n",
       "\n",
       "    .dataframe thead th {\n",
       "        text-align: right;\n",
       "    }\n",
       "</style>\n",
       "<table border=\"1\" class=\"dataframe\">\n",
       "  <thead>\n",
       "    <tr style=\"text-align: right;\">\n",
       "      <th></th>\n",
       "      <th>adult</th>\n",
       "      <th>belongs_to_collection</th>\n",
       "      <th>budget</th>\n",
       "      <th>genres</th>\n",
       "      <th>homepage</th>\n",
       "      <th>id</th>\n",
       "      <th>imdb_id</th>\n",
       "      <th>original_language</th>\n",
       "      <th>original_title</th>\n",
       "      <th>overview</th>\n",
       "      <th>...</th>\n",
       "      <th>release_date</th>\n",
       "      <th>revenue</th>\n",
       "      <th>runtime</th>\n",
       "      <th>spoken_languages</th>\n",
       "      <th>status</th>\n",
       "      <th>tagline</th>\n",
       "      <th>title</th>\n",
       "      <th>video</th>\n",
       "      <th>vote_average</th>\n",
       "      <th>vote_count</th>\n",
       "    </tr>\n",
       "  </thead>\n",
       "  <tbody>\n",
       "    <tr>\n",
       "      <th>0</th>\n",
       "      <td>False</td>\n",
       "      <td>{'id': 10194, 'name': 'Toy Story Collection', ...</td>\n",
       "      <td>30000000</td>\n",
       "      <td>[{'id': 16, 'name': 'Animation'}, {'id': 35, '...</td>\n",
       "      <td>http://toystory.disney.com/toy-story</td>\n",
       "      <td>862</td>\n",
       "      <td>tt0114709</td>\n",
       "      <td>en</td>\n",
       "      <td>Toy Story</td>\n",
       "      <td>Led by Woody, Andy's toys live happily in his ...</td>\n",
       "      <td>...</td>\n",
       "      <td>1995-10-30</td>\n",
       "      <td>373554033</td>\n",
       "      <td>81.0</td>\n",
       "      <td>[{'iso_639_1': 'en', 'name': 'English'}]</td>\n",
       "      <td>Released</td>\n",
       "      <td>None</td>\n",
       "      <td>Toy Story</td>\n",
       "      <td>False</td>\n",
       "      <td>7.7</td>\n",
       "      <td>5415</td>\n",
       "    </tr>\n",
       "  </tbody>\n",
       "</table>\n",
       "<p>1 rows × 24 columns</p>\n",
       "</div>"
      ],
      "text/plain": [
       "   adult                              belongs_to_collection    budget  \\\n",
       "0  False  {'id': 10194, 'name': 'Toy Story Collection', ...  30000000   \n",
       "\n",
       "                                              genres  \\\n",
       "0  [{'id': 16, 'name': 'Animation'}, {'id': 35, '...   \n",
       "\n",
       "                               homepage   id    imdb_id original_language  \\\n",
       "0  http://toystory.disney.com/toy-story  862  tt0114709                en   \n",
       "\n",
       "  original_title                                           overview  ...  \\\n",
       "0      Toy Story  Led by Woody, Andy's toys live happily in his ...  ...   \n",
       "\n",
       "   release_date    revenue runtime                          spoken_languages  \\\n",
       "0    1995-10-30  373554033    81.0  [{'iso_639_1': 'en', 'name': 'English'}]   \n",
       "\n",
       "     status  tagline      title  video vote_average vote_count  \n",
       "0  Released     None  Toy Story  False          7.7       5415  \n",
       "\n",
       "[1 rows x 24 columns]"
      ]
     },
     "execution_count": 53,
     "metadata": {},
     "output_type": "execute_result"
    }
   ],
   "source": [
    "df_movies.head(1)"
   ]
  },
  {
   "cell_type": "code",
   "execution_count": 54,
   "metadata": {},
   "outputs": [],
   "source": [
    "#Cambiar valores nulos en revenue por 0\n",
    "df_movies['revenue'] = np.where(pd.isnull(df_movies['revenue']), 0, df_movies['revenue'])"
   ]
  },
  {
   "cell_type": "code",
   "execution_count": 55,
   "metadata": {},
   "outputs": [],
   "source": [
    "#Cambiar valores nulos en revenue por 0\n",
    "df_movies['budget'] = np.where(pd.isnull(df_movies['budget']), 0, df_movies['budget'])"
   ]
  },
  {
   "cell_type": "code",
   "execution_count": 56,
   "metadata": {},
   "outputs": [
    {
     "data": {
      "text/plain": [
       "0        1995-10-30\n",
       "1        1995-12-15\n",
       "2        1995-12-22\n",
       "3        1995-12-22\n",
       "4        1995-02-10\n",
       "            ...    \n",
       "45457    1991-05-13\n",
       "45459    2011-11-17\n",
       "45460    2003-08-01\n",
       "45461    1917-10-21\n",
       "45462    2017-06-09\n",
       "Name: release_date, Length: 45379, dtype: object"
      ]
     },
     "execution_count": 56,
     "metadata": {},
     "output_type": "execute_result"
    }
   ],
   "source": [
    "df_movies['release_date'].dropna()"
   ]
  },
  {
   "cell_type": "code",
   "execution_count": 57,
   "metadata": {},
   "outputs": [
    {
     "data": {
      "text/plain": [
       "Index(['adult', 'belongs_to_collection', 'budget', 'genres', 'homepage', 'id',\n",
       "       'imdb_id', 'original_language', 'original_title', 'overview',\n",
       "       'popularity', 'poster_path', 'production_companies',\n",
       "       'production_countries', 'release_date', 'revenue', 'runtime',\n",
       "       'spoken_languages', 'status', 'tagline', 'title', 'video',\n",
       "       'vote_average', 'vote_count'],\n",
       "      dtype='object')"
      ]
     },
     "execution_count": 57,
     "metadata": {},
     "output_type": "execute_result"
    }
   ],
   "source": [
    "df_movies.columns"
   ]
  },
  {
   "cell_type": "markdown",
   "metadata": {},
   "source": [
    "DESEMPAQUETAR"
   ]
  },
  {
   "cell_type": "code",
   "execution_count": 58,
   "metadata": {},
   "outputs": [
    {
     "name": "stdout",
     "output_type": "stream",
     "text": [
      "      id  cast_cast_id                  cast_character  \\\n",
      "0    862          14.0                   Woody (voice)   \n",
      "1    862          15.0          Buzz Lightyear (voice)   \n",
      "2    862          16.0         Mr. Potato Head (voice)   \n",
      "3    862          17.0              Slinky Dog (voice)   \n",
      "4    862          18.0                     Rex (voice)   \n",
      "5    862          19.0                    Hamm (voice)   \n",
      "6    862          20.0                 Bo Peep (voice)   \n",
      "7    862          26.0                    Andy (voice)   \n",
      "8    862          22.0                     Sid (voice)   \n",
      "9    862          23.0              Mrs. Davis (voice)   \n",
      "10   862          24.0                Sergeant (voice)   \n",
      "11   862          25.0                  Hannah (voice)   \n",
      "12   862          27.0            TV Announcer (voice)   \n",
      "13  8844           1.0                    Alan Parrish   \n",
      "14  8844           8.0  Samuel Alan Parrish / Van Pelt   \n",
      "15  8844           2.0                    Judy Sheperd   \n",
      "16  8844          24.0                  Peter Shepherd   \n",
      "17  8844          10.0                   Sarah Whittle   \n",
      "18  8844          25.0                   Nora Shepherd   \n",
      "19  8844          26.0                    Carl Bentley   \n",
      "\n",
      "              cast_credit_id  cast_gender    cast_id          cast_name  \\\n",
      "0   52fe4284c3a36847f8024f95          2.0       31.0          Tom Hanks   \n",
      "1   52fe4284c3a36847f8024f99          2.0    12898.0          Tim Allen   \n",
      "2   52fe4284c3a36847f8024f9d          2.0     7167.0        Don Rickles   \n",
      "3   52fe4284c3a36847f8024fa1          2.0    12899.0         Jim Varney   \n",
      "4   52fe4284c3a36847f8024fa5          2.0    12900.0      Wallace Shawn   \n",
      "5   52fe4284c3a36847f8024fa9          2.0     7907.0  John Ratzenberger   \n",
      "6   52fe4284c3a36847f8024fad          1.0     8873.0        Annie Potts   \n",
      "7   52fe4284c3a36847f8024fc1          0.0  1116442.0        John Morris   \n",
      "8   52fe4284c3a36847f8024fb1          2.0    12901.0    Erik von Detten   \n",
      "9   52fe4284c3a36847f8024fb5          1.0    12133.0     Laurie Metcalf   \n",
      "10  52fe4284c3a36847f8024fb9          2.0     8655.0       R. Lee Ermey   \n",
      "11  52fe4284c3a36847f8024fbd          1.0    12903.0      Sarah Freeman   \n",
      "12  52fe4284c3a36847f8024fc5          2.0    37221.0      Penn Jillette   \n",
      "13  52fe44bfc3a36847f80a7c73          2.0     2157.0     Robin Williams   \n",
      "14  52fe44bfc3a36847f80a7c99          2.0     8537.0      Jonathan Hyde   \n",
      "15  52fe44bfc3a36847f80a7c77          1.0      205.0      Kirsten Dunst   \n",
      "16  52fe44c0c3a36847f80a7ce7          0.0   145151.0     Bradley Pierce   \n",
      "17  52fe44bfc3a36847f80a7c9d          1.0     5149.0        Bonnie Hunt   \n",
      "18  52fe44c0c3a36847f80a7ceb          1.0    10739.0      Bebe Neuwirth   \n",
      "19  52fe44c0c3a36847f80a7cef          2.0    58563.0   David Alan Grier   \n",
      "\n",
      "    cast_order                 cast_profile_path  \n",
      "0          0.0  /pQFoyx7rp09CJTAb932F2g8Nlho.jpg  \n",
      "1          1.0  /uX2xVf6pMmPepxnvFWyBtjexzgY.jpg  \n",
      "2          2.0  /h5BcaDMPRVLHLDzbQavec4xfSdt.jpg  \n",
      "3          3.0  /eIo2jVVXYgjDtaHoF19Ll9vtW7h.jpg  \n",
      "4          4.0  /oGE6JqPP2xH4tNORKNqxbNPYi7u.jpg  \n",
      "5          5.0  /yGechiKWL6TJDfVE2KPSJYqdMsY.jpg  \n",
      "6          6.0  /eryXT84RL41jHSJcMy4kS3u9y6w.jpg  \n",
      "7          7.0  /vYGyvK4LzeaUCoNSHtsuqJUY15M.jpg  \n",
      "8          8.0  /twnF1ZaJ1FUNUuo6xLXwcxjayBE.jpg  \n",
      "9          9.0  /unMMIT60eoBM2sN2nyR7EZ2BvvD.jpg  \n",
      "10        10.0  /r8GBqFBjypLUP9VVqDqfZ7wYbSs.jpg  \n",
      "11        11.0                              None  \n",
      "12        12.0  /zmAaXUdx12NRsssgHbk1T31j2x9.jpg  \n",
      "13         0.0  /sojtJyIV3lkUeThD7A2oHNm8183.jpg  \n",
      "14         1.0  /7il5D76vx6QVRVlpVvBPEC40MBi.jpg  \n",
      "15         2.0  /wBXvh6PJd0IUVNpvatPC1kzuHtm.jpg  \n",
      "16         3.0  /j6iW0vVA23GQniAPSYI6mi4hiEW.jpg  \n",
      "17         4.0  /7spiVQwmr8siw5QCcvvdRG3c7Lf.jpg  \n",
      "18         5.0  /xm58rpMRVDHS0IGttw1pTlqGwkN.jpg  \n",
      "19         6.0  /5tkt3qRZTco4sz604aTIarQ0m8W.jpg  \n"
     ]
    }
   ],
   "source": [
    "# Desanidar la columna 'Cast'\n",
    "df_credits_expanded_cast = df_credits.explode('Cast')\n",
    "\n",
    "# Normalizar la columna 'Cast'\n",
    "df_credits_cast = pd.json_normalize(df_credits_expanded_cast['Cast'])\n",
    "\n",
    "# Renombrar las columnas de 'Cast'\n",
    "df_credits_cast.columns = [f\"cast_{col}\" for col in df_credits_cast.columns]\n",
    "\n",
    "# Combinar los DataFrames con 'id' y 'Crew'\n",
    "df_credits_cast = pd.concat([\n",
    "    df_credits_expanded_cast[['id']].reset_index(drop=True),\n",
    "    df_credits_cast.reset_index(drop=True)\n",
    "], axis=1)\n",
    "\n",
    "print(df_credits_cast.head(20))\n"
   ]
  },
  {
   "cell_type": "code",
   "execution_count": 59,
   "metadata": {},
   "outputs": [],
   "source": [
    "#df_credits_exp.to_json('df_combined.json', lines=True, orient='records')\n",
    "#df_credits_exp.to_parquet('df_credits_exp.parquet',engine='pyarrow' )"
   ]
  },
  {
   "cell_type": "code",
   "execution_count": 60,
   "metadata": {},
   "outputs": [
    {
     "name": "stdout",
     "output_type": "stream",
     "text": [
      "<class 'pandas._libs.tslibs.timestamps.Timestamp'>\n"
     ]
    }
   ],
   "source": [
    "# Cambiamos el tipo de dato de la columna 'release_date' str a datetime\n",
    "df_movies['release_date'] = pd.to_datetime(df_movies['release_date'], format='%Y-%m-%d')\n",
    "\n",
    "# Verificamos el tipo de dato de la columna\n",
    "print(type(df_movies['release_date'].loc[2]))\n"
   ]
  },
  {
   "cell_type": "code",
   "execution_count": 61,
   "metadata": {},
   "outputs": [],
   "source": [
    "#Creamos la columna 'release_year', la cual se obtiene de sacar el año de la columna 'release_date'\n",
    "df_movies['release_year']=df_movies['release_date'].dt.year"
   ]
  },
  {
   "cell_type": "code",
   "execution_count": 62,
   "metadata": {},
   "outputs": [],
   "source": [
    "#Creamos columna 'return', la cual es el resultado de revenue / budget\n",
    "df_movies['return']=df_movies['revenue']/df_movies['budget']"
   ]
  },
  {
   "cell_type": "code",
   "execution_count": 63,
   "metadata": {},
   "outputs": [
    {
     "name": "stdout",
     "output_type": "stream",
     "text": [
      "262797249\n",
      "65000000\n",
      "4.0430346\n"
     ]
    }
   ],
   "source": [
    "#Prueba\n",
    "print(df_movies['revenue'].loc[1])\n",
    "print(df_movies['budget'].loc[1])\n",
    "print(df_movies['return'].loc[1])"
   ]
  },
  {
   "cell_type": "code",
   "execution_count": 64,
   "metadata": {},
   "outputs": [],
   "source": [
    "#Eliminamos algunas columnas\n",
    "df_movies = df_movies.drop(columns=['video', 'imdb_id', 'adult', 'original_title', 'poster_path', 'homepage'])"
   ]
  },
  {
   "cell_type": "code",
   "execution_count": 65,
   "metadata": {},
   "outputs": [
    {
     "data": {
      "text/plain": [
       "Index(['belongs_to_collection', 'budget', 'genres', 'id', 'original_language',\n",
       "       'overview', 'popularity', 'production_companies',\n",
       "       'production_countries', 'release_date', 'revenue', 'runtime',\n",
       "       'spoken_languages', 'status', 'tagline', 'title', 'vote_average',\n",
       "       'vote_count', 'release_year', 'return'],\n",
       "      dtype='object')"
      ]
     },
     "execution_count": 65,
     "metadata": {},
     "output_type": "execute_result"
    }
   ],
   "source": [
    "df_movies.columns"
   ]
  },
  {
   "cell_type": "code",
   "execution_count": 66,
   "metadata": {},
   "outputs": [],
   "source": [
    "#Transformando DataFrame a parquet \n",
    "\n",
    "#df_credits.to_parquet('credits.parquet', engine='pyarrow')\n"
   ]
  },
  {
   "cell_type": "code",
   "execution_count": 67,
   "metadata": {},
   "outputs": [],
   "source": [
    "#df_movies.to_json('movies.json')"
   ]
  },
  {
   "cell_type": "code",
   "execution_count": 68,
   "metadata": {},
   "outputs": [
    {
     "data": {
      "text/plain": [
       "Index(['belongs_to_collection', 'budget', 'genres', 'id', 'original_language',\n",
       "       'overview', 'popularity', 'production_companies',\n",
       "       'production_countries', 'release_date', 'revenue', 'runtime',\n",
       "       'spoken_languages', 'status', 'tagline', 'title', 'vote_average',\n",
       "       'vote_count', 'release_year', 'return'],\n",
       "      dtype='object')"
      ]
     },
     "execution_count": 68,
     "metadata": {},
     "output_type": "execute_result"
    }
   ],
   "source": [
    "df_movies.columns"
   ]
  },
  {
   "cell_type": "markdown",
   "metadata": {},
   "source": [
    "def cantidad_filmaciones_mes( Mes ): Se ingresa un mes en idioma Español. Debe devolver la cantidad de películas que fueron estrenadas en el mes consultado en la totalidad del dataset.\n",
    "        Ejemplo de retorno: X cantidad de películas fueron estrenadas en el mes de X"
   ]
  },
  {
   "cell_type": "code",
   "execution_count": 69,
   "metadata": {},
   "outputs": [
    {
     "data": {
      "text/plain": [
       "array(['en', 'fr', 'zh', 'it', 'fa', 'nl', 'de', 'cn', 'ar', 'es', 'ru',\n",
       "       'sv', 'ja', 'ko', 'sr', 'bn', 'he', 'pt', 'wo', 'ro', 'hu', 'cy',\n",
       "       'vi', 'cs', 'da', 'no', 'nb', 'pl', 'el', 'sh', 'xx', 'mk', 'bo',\n",
       "       'ca', 'fi', 'th', 'sk', 'bs', 'hi', 'tr', 'is', 'ps', 'ab', 'eo',\n",
       "       'ka', 'mn', 'bm', 'zu', 'uk', 'af', 'la', 'et', 'ku', 'fy', 'lv',\n",
       "       'ta', 'sl', 'tl', 'ur', 'rw', 'id', 'bg', 'mr', 'lt', 'kk', 'ms',\n",
       "       'sq', None, 'qu', 'te', 'am', 'jv', 'tg', 'ml', 'hr', 'lo', 'ay',\n",
       "       'kn', 'eu', 'ne', 'pa', 'ky', 'gl', 'uz', 'sm', 'mt', 'hy', 'iu',\n",
       "       'lb', 'si'], dtype=object)"
      ]
     },
     "execution_count": 69,
     "metadata": {},
     "output_type": "execute_result"
    }
   ],
   "source": [
    "df_movies['original_language'].unique()"
   ]
  },
  {
   "cell_type": "code",
   "execution_count": 70,
   "metadata": {},
   "outputs": [],
   "source": [
    "\n",
    "def cantidad_filmaciones_mes1( Mes ):\n",
    "    meses = {\n",
    "        1: \"enero\", 2: \"febrero\", 3: \"marzo\", 4: \"abril\", 5: \"mayo\",\n",
    "        6: \"junio\", 7: \"julio\", 8: \"agosto\", 9: \"septiembre\", \n",
    "        10: \"octubre\", 11: \"noviembre\", 12: \"diciembre\"\n",
    "    }\n",
    "    peliculas_espanol = df_movies[df_movies['original_language'] == 'es']\n",
    "    peliculas_mes = peliculas_espanol[peliculas_espanol['release_date'].dt.month == Mes]\n",
    "    print(f\"{len(peliculas_mes)} películas fueron estrenadas en el mes de {meses[Mes]}\")\n",
    "\n"
   ]
  },
  {
   "cell_type": "code",
   "execution_count": 71,
   "metadata": {},
   "outputs": [
    {
     "name": "stdout",
     "output_type": "stream",
     "text": [
      "97 películas fueron estrenadas en el mes de abril\n"
     ]
    }
   ],
   "source": [
    "cantidad_filmaciones_mes1(4)"
   ]
  },
  {
   "cell_type": "code",
   "execution_count": 72,
   "metadata": {},
   "outputs": [],
   "source": [
    "#Función que calcula la cantidad de peliculas estrenadas en un mes determinado\n",
    "def cantidad_filmaciones_mes( Mes ):\n",
    "    Mes= Mes.lower() #Convierte el valor ingresado a minúsculas\n",
    "    #asignamos un valor a cada mes en español que entre como parámetro\n",
    "    meses = {\n",
    "        \"enero\": 1, \"febrero\": 2, \"marzo\": 3, \"abril\":4, \"mayo\": 5,\n",
    "        \"junio\":6, \"julio\":7, \"agosto\":8, \"septiembre\":9, \n",
    "         \"octubre\":10, \"noviembre\":11, \"diciembre\":12\n",
    "    }\n",
    "    if(Mes not in meses):#Si el mes seleccionado no está entre las opciones\n",
    "        print(\"Ingrese un mes en español\")\n",
    "        return\n",
    "    peliculas_mes = (df_movies[df_movies['release_date'].dt.month==meses[Mes]])\n",
    "    print(f\"{len(peliculas_mes)} películas fueron estrenadas en el mes de {Mes}\")"
   ]
  },
  {
   "cell_type": "code",
   "execution_count": 73,
   "metadata": {},
   "outputs": [
    {
     "name": "stdout",
     "output_type": "stream",
     "text": [
      "5913 películas fueron estrenadas en el mes de enero\n"
     ]
    }
   ],
   "source": [
    "cantidad_filmaciones_mes('ENERO')"
   ]
  },
  {
   "cell_type": "code",
   "execution_count": 74,
   "metadata": {},
   "outputs": [
    {
     "name": "stdout",
     "output_type": "stream",
     "text": [
      "5913\n"
     ]
    }
   ],
   "source": [
    "print(len(df_movies[df_movies['release_date'].dt.month==1]))"
   ]
  },
  {
   "cell_type": "markdown",
   "metadata": {},
   "source": [
    "def cantidad_filmaciones_dia( Dia ): Se ingresa un día en idioma Español. Debe devolver la cantidad de películas que fueron estrenadas en día consultado en la totalidad del dataset.\n",
    "            Ejemplo de retorno: X cantidad de películas fueron estrenadas en los días X"
   ]
  },
  {
   "cell_type": "code",
   "execution_count": 75,
   "metadata": {},
   "outputs": [],
   "source": [
    "#Función que calcula la cantidad de peliculas estrenadas en un día determinado\n",
    "def cantidad_filmaciones_dia( Dia ):\n",
    "    Dia= Dia.lower() #Convierte el valor ingresado a minúsculas#Convierte el valor ingresado a minúsculas\n",
    "    #asignamos un valor a cada día en español que entre como parámetro\n",
    "    Dias = {\n",
    "        \"lunes\": \"Monday\", \"martes\": \"Tuesday\", \"miercoles\": \"Wednesday\", \"jueves\":\"Thursday\", \"viernes\": \"Friday\",\n",
    "        \"sabado\":\"Saturday\", \"domingo\":\"Sunday\"\n",
    "    }\n",
    "    if(Dia not in Dias):#Si el día seleccionado no está entre las opciones\n",
    "        print(\"Ingrese un día en español\")\n",
    "        return\n",
    "    peliculas_dia = (df_movies[df_movies['release_date'].dt.day_name()==Dias[Dia]])\n",
    "    print(f\"{len(peliculas_dia)} películas fueron estrenadas en el mes de {Dia}\")"
   ]
  },
  {
   "cell_type": "code",
   "execution_count": 76,
   "metadata": {},
   "outputs": [
    {
     "name": "stdout",
     "output_type": "stream",
     "text": [
      "3503 películas fueron estrenadas en el mes de lunes\n"
     ]
    }
   ],
   "source": [
    "#Probando la función\n",
    "cantidad_filmaciones_dia(\"lunes\")"
   ]
  },
  {
   "cell_type": "code",
   "execution_count": 77,
   "metadata": {},
   "outputs": [
    {
     "data": {
      "text/plain": [
       "3503"
      ]
     },
     "execution_count": 77,
     "metadata": {},
     "output_type": "execute_result"
    }
   ],
   "source": [
    "#Prueba\n",
    "len(df_movies[df_movies['release_date'].dt.day_name()=='Monday'])"
   ]
  },
  {
   "cell_type": "markdown",
   "metadata": {},
   "source": [
    "def score_titulo( titulo_de_la_filmación ): Se ingresa el título de una filmación esperando como respuesta el título, el año de estreno y el score."
   ]
  },
  {
   "cell_type": "code",
   "execution_count": 78,
   "metadata": {},
   "outputs": [
    {
     "name": "stdout",
     "output_type": "stream",
     "text": [
      " La película Sense and Sensibility fue estrenada en el año 1995 con un score/popularidad de 0.67 \n",
      "None\n"
     ]
    }
   ],
   "source": [
    "def score_titulo(titulo_de_la_filmación):\n",
    "    titulo_de_la_filmación = titulo_de_la_filmación.lower()\n",
    "    # Convertir los títulos del DataFrame a minúsculas para la comparación\n",
    "    df_movies['title_lower'] = df_movies['title'].str.lower()\n",
    "    # Filtrar las filas donde el título coincida con el título de la filmación\n",
    "    coincidencias = df_movies[df_movies['title_lower'] == titulo_de_la_filmación]\n",
    "\n",
    "    # Si hay coincidencias, devuelve el título, el año de lanzamiento, y la puntuación\n",
    "    if not coincidencias.empty:\n",
    "        titulo = coincidencias['title'].values[0]\n",
    "        año = int(coincidencias['release_year'].values[0])\n",
    "        puntuacion = float(coincidencias['vote_average'].values[0] / coincidencias['popularity'].values[0])\n",
    "        # Aplicamos la función round para redondear solo a 2 decimales\n",
    "        puntuacion = round(puntuacion, 2)\n",
    "        #return titulo, año, puntuacion\n",
    "        return print(f\" La película {titulo} fue estrenada en el año {año} con un score/popularidad de {puntuacion} \")\n",
    "    else:\n",
    "        return \"No se encontró la filmación\", None, None\n",
    "\n",
    "# Ejemplo de uso\n",
    "resultado = score_titulo(\"Sense and Sensibility\")\n",
    "print(resultado)\n"
   ]
  },
  {
   "cell_type": "code",
   "execution_count": 79,
   "metadata": {},
   "outputs": [
    {
     "name": "stdout",
     "output_type": "stream",
     "text": [
      " La película Casino fue estrenada en el año 1995 con un score/popularidad de 0.77 \n"
     ]
    }
   ],
   "source": [
    "score_titulo(\"Casino\")"
   ]
  },
  {
   "cell_type": "code",
   "execution_count": 80,
   "metadata": {},
   "outputs": [
    {
     "data": {
      "text/plain": [
       "Index(['belongs_to_collection', 'budget', 'genres', 'id', 'original_language',\n",
       "       'overview', 'popularity', 'production_companies',\n",
       "       'production_countries', 'release_date', 'revenue', 'runtime',\n",
       "       'spoken_languages', 'status', 'tagline', 'title', 'vote_average',\n",
       "       'vote_count', 'release_year', 'return', 'title_lower'],\n",
       "      dtype='object')"
      ]
     },
     "execution_count": 80,
     "metadata": {},
     "output_type": "execute_result"
    }
   ],
   "source": [
    "df_movies.columns"
   ]
  },
  {
   "cell_type": "markdown",
   "metadata": {},
   "source": [
    "def votos_titulo( titulo_de_la_filmación ): Se ingresa el título de una filmación esperando como respuesta el título, la cantidad de votos y el valor promedio de las votaciones. La misma variable deberá de contar con al menos 2000 valoraciones, caso contrario, debemos contar con un mensaje avisando que no cumple esta condición y que por ende, no se devuelve ningun valor.\n",
    "                    Ejemplo de retorno: La película X fue estrenada en el año X. La misma cuenta con un total de X valoraciones, con un promedio de X"
   ]
  },
  {
   "cell_type": "code",
   "execution_count": 81,
   "metadata": {},
   "outputs": [],
   "source": [
    "def votos_titulo(titulo_de_la_filmación):\n",
    "    titulo_de_la_filmación = titulo_de_la_filmación.lower()\n",
    "    # Convertir los títulos del DataFrame a minúsculas para la comparación\n",
    "    df_movies['title_lower'] = df_movies['title'].str.lower()\n",
    "    # Filtrar las filas donde el título coincida con el título de la filmación\n",
    "    coincidencias = df_movies[df_movies['title_lower'] == titulo_de_la_filmación]\n",
    "    \n",
    "    if not coincidencias.empty:\n",
    "        votos = coincidencias.iloc[0]['vote_count']\n",
    "        promedio = coincidencias.iloc[0]['vote_average']\n",
    "        if votos >= 2000:\n",
    "            return f\"La película {coincidencias.iloc[0]['title']} fue estrenada en el año {int(coincidencias.iloc[0]['release_year'])}. La misma cuenta con un total de {votos} valoraciones, con un promedio de {promedio}\"\n",
    "    return \"No se encontraron coincidencias o la película no tiene suficientes valoraciones.\"\n"
   ]
  },
  {
   "cell_type": "code",
   "execution_count": 82,
   "metadata": {},
   "outputs": [
    {
     "data": {
      "text/plain": [
       "'La película Se7en fue estrenada en el año 1995. La misma cuenta con un total de 5915 valoraciones, con un promedio de 8.1'"
      ]
     },
     "execution_count": 82,
     "metadata": {},
     "output_type": "execute_result"
    }
   ],
   "source": [
    "votos_titulo('Se7en')"
   ]
  },
  {
   "cell_type": "code",
   "execution_count": 83,
   "metadata": {},
   "outputs": [
    {
     "data": {
      "text/plain": [
       "Index(['Cast', 'Crew', 'id'], dtype='object')"
      ]
     },
     "execution_count": 83,
     "metadata": {},
     "output_type": "execute_result"
    }
   ],
   "source": [
    "df_credits.columns"
   ]
  },
  {
   "cell_type": "markdown",
   "metadata": {},
   "source": [
    "def get_actor( nombre_actor ): Se ingresa el nombre de un actor que se encuentre dentro de un dataset debiendo devolver el éxito del mismo medido a través del retorno. Además, la cantidad de películas que en las que ha participado y el promedio de retorno. La definición no deberá considerar directores.\n",
    "                    Ejemplo de retorno: El actor X ha participado de X cantidad de filmaciones, el mismo ha conseguido un retorno de X con un promedio de X por filmación"
   ]
  },
  {
   "cell_type": "code",
   "execution_count": 84,
   "metadata": {},
   "outputs": [
    {
     "name": "stdout",
     "output_type": "stream",
     "text": [
      "Index(['belongs_to_collection', 'budget', 'genres', 'id', 'original_language',\n",
      "       'overview', 'popularity', 'production_companies',\n",
      "       'production_countries', 'release_date', 'revenue', 'runtime',\n",
      "       'spoken_languages', 'status', 'tagline', 'title', 'vote_average',\n",
      "       'vote_count', 'release_year', 'return', 'title_lower'],\n",
      "      dtype='object')\n"
     ]
    }
   ],
   "source": [
    "print(df_movies.columns)\n"
   ]
  },
  {
   "cell_type": "code",
   "execution_count": 85,
   "metadata": {},
   "outputs": [
    {
     "name": "stdout",
     "output_type": "stream",
     "text": [
      "El actor johnny depp ha participado de 69 cantidad de filmaciones, el mismo ha conseguido un retorno de 139.67 con un promedio de 11.21 por filmación\n",
      "El actor alfred molina ha participado de 66 cantidad de filmaciones, el mismo ha conseguido un retorno de 71.81 con un promedio de 3.98 por filmación\n"
     ]
    }
   ],
   "source": [
    "def get_actor(nombre_actor):\n",
    "    nombre_actor = nombre_actor.lower()\n",
    "    \n",
    "    # Convertir los nombres del DataFrame a minúsculas para la comparación\n",
    "    df_credits_cast['cast_name'] = df_credits_cast['cast_name'].str.lower()\n",
    "    \n",
    "    # Filtrar las filas donde el nombre coincida con el nombre_actor\n",
    "    coincidencias = df_credits_cast[df_credits_cast['cast_name'] == nombre_actor]\n",
    "    \n",
    "    # Verificar que haya coincidencias\n",
    "    if coincidencias.empty:\n",
    "        return nombre_actor, 0, 0.0, 0.0\n",
    "        \n",
    "    # Obtener los IDs únicos y contar la cantidad de películas\n",
    "    cant_films = len(coincidencias['id'].unique())\n",
    "    \n",
    "    # Verificar que la columna 'return' exista\n",
    "    if 'return' not in df_movies.columns:\n",
    "        return nombre_actor, cant_films, 0.0, 0.0\n",
    "    \n",
    "    # Seleccionar las películas del actor\n",
    "    actor_movies = df_movies[df_movies['id'].isin(coincidencias['id'])]\n",
    "    \n",
    "    # Asegurarse de que 'return' no contiene valores infinitos o nulos\n",
    "    actor_movies = actor_movies.replace([np.inf, -np.inf], np.nan).dropna(subset=['return'])\n",
    "    \n",
    "      \n",
    "    # Calcular el retorno total y el promedio de retorno\n",
    "    total_return = float(round(actor_movies['return'].sum(), 2))\n",
    "    avg_return = float(round(actor_movies['popularity'].sum() / cant_films if cant_films > 0 else 0.0, 2))\n",
    "    \n",
    "    return f\"El actor {nombre_actor} ha participado de {cant_films} cantidad de filmaciones, el mismo ha conseguido un retorno de {total_return} con un promedio de {avg_return} por filmación\"\n",
    "    \n",
    "# Prueba la función\n",
    "print(get_actor('Johnny Depp'))\n",
    "print(get_actor('Alfred Molina'))\n"
   ]
  },
  {
   "cell_type": "code",
   "execution_count": 86,
   "metadata": {},
   "outputs": [
    {
     "name": "stdout",
     "output_type": "stream",
     "text": [
      "{'actor': 'johnny depp', 'cantidad_filmes': 69, 'total_return': inf, 'avg_return': inf}\n"
     ]
    },
    {
     "name": "stderr",
     "output_type": "stream",
     "text": [
      "C:\\Users\\diani\\AppData\\Local\\Temp\\ipykernel_18744\\3297257240.py:14: FutureWarning: A value is trying to be set on a copy of a DataFrame or Series through chained assignment using an inplace method.\n",
      "The behavior will change in pandas 3.0. This inplace method will never work because the intermediate object on which we are setting values always behaves as a copy.\n",
      "\n",
      "For example, when doing 'df[col].method(value, inplace=True)', try using 'df.method({col: value}, inplace=True)' or df[col] = df[col].method(value) instead, to perform the operation inplace on the original object.\n",
      "\n",
      "\n",
      "  peliculas['return'].fillna(0, inplace=True)\n",
      "C:\\Users\\diani\\AppData\\Local\\Temp\\ipykernel_18744\\3297257240.py:14: SettingWithCopyWarning: \n",
      "A value is trying to be set on a copy of a slice from a DataFrame\n",
      "\n",
      "See the caveats in the documentation: https://pandas.pydata.org/pandas-docs/stable/user_guide/indexing.html#returning-a-view-versus-a-copy\n",
      "  peliculas['return'].fillna(0, inplace=True)\n"
     ]
    }
   ],
   "source": [
    "\n",
    "def get_actor(nombre_actor: str):\n",
    "    nombre_actor = nombre_actor.lower()\n",
    "    \n",
    "    # Filtrar las filas donde el trabajo sea \"Actor\" y el nombre sea el especificado\n",
    "    df_actor = df_credits[df_credits['Cast'].apply(lambda cast: any(member['name'].lower() == nombre_actor for member in cast))]\n",
    "    \n",
    "    # Obtener los IDs únicos y contar la cantidad de películas\n",
    "    cant_films = len(df_actor['id'].unique())\n",
    "    \n",
    "    # Filtrar las películas en df_movies cuyo 'id' está en df_actor\n",
    "    peliculas = df_movies[df_movies['id'].isin(df_actor['id'])]\n",
    "    \n",
    "    # Manejar los valores NaN en la columna 'return' antes de sumar\n",
    "    peliculas['return'].fillna(0, inplace=True)\n",
    "    \n",
    "    # Calcular el retorno total y el promedio de retorno por filmación\n",
    "    total_return = float(round(peliculas['return'].sum(), 2))\n",
    "    avg_return_per_film = total_return / cant_films if cant_films > 0 else 0.0\n",
    "    \n",
    "    return {\n",
    "        \"actor\": nombre_actor,\n",
    "        \"cantidad_filmes\": cant_films,\n",
    "        \"total_return\": total_return,\n",
    "        \"avg_return\": avg_return_per_film\n",
    "    }\n",
    "\n",
    "\n",
    "print(get_actor('Johnny Depp'))\n"
   ]
  },
  {
   "cell_type": "code",
   "execution_count": 87,
   "metadata": {},
   "outputs": [
    {
     "name": "stdout",
     "output_type": "stream",
     "text": [
      "[  2086   1909    522   1587    922    792    377   4104   9366   1878\n",
      "  11284    162  51679   2900   2668    622    392   5001   4133  29572\n",
      "    768  21189     22   1428   1586  11044    866   9768   9956    118\n",
      "  14653  17824  61675   3933   7548  53367  17700     58    285  25740\n",
      "  13885  18893  13003  11322   8054  12155  37659  37710  44896   1865\n",
      "  71880  23514  64688  62213  57201 200063 157353 140456 246403 214096\n",
      "  32624 224141 166426 210860 259316 261023 290825 241259 382079]\n"
     ]
    }
   ],
   "source": [
    "# Filtrar las filas donde el nombre del cast sea 'Johnny Depp'\n",
    "conteo = df_credits_cast[df_credits_cast['cast_name'] == 'johnny depp']['id'].unique()\n",
    "print(conteo)\n",
    "\n"
   ]
  },
  {
   "cell_type": "markdown",
   "metadata": {},
   "source": [
    "def get_director( nombre_director ): Se ingresa el nombre de un director que se encuentre dentro de un dataset debiendo devolver el éxito del mismo medido a través del retorno. Además, deberá devolver el nombre de cada película con la fecha de lanzamiento, retorno individual, costo y ganancia de la misma."
   ]
  },
  {
   "cell_type": "code",
   "execution_count": 88,
   "metadata": {},
   "outputs": [
    {
     "data": {
      "text/plain": [
       "Index(['belongs_to_collection', 'budget', 'genres', 'id', 'original_language',\n",
       "       'overview', 'popularity', 'production_companies',\n",
       "       'production_countries', 'release_date', 'revenue', 'runtime',\n",
       "       'spoken_languages', 'status', 'tagline', 'title', 'vote_average',\n",
       "       'vote_count', 'release_year', 'return', 'title_lower'],\n",
       "      dtype='object')"
      ]
     },
     "execution_count": 88,
     "metadata": {},
     "output_type": "execute_result"
    }
   ],
   "source": [
    "df_movies.columns"
   ]
  },
  {
   "cell_type": "code",
   "execution_count": 89,
   "metadata": {},
   "outputs": [
    {
     "name": "stdout",
     "output_type": "stream",
     "text": [
      "El director Gary Trousdale tiene un nivel de retorno de 17.65\n",
      "          id                                         title  release_year  \\\n",
      "588    10020                          Beauty and the Beast        1991.0   \n",
      "763    10545                   The Hunchback of Notre Dame        1996.0   \n",
      "4238   10865                     Atlantis: The Lost Empire        2001.0   \n",
      "13152  13394                               Shrek the Halls        2007.0   \n",
      "16099  48466                              Scared Shrekless        2010.0   \n",
      "25025  10258  The Madagascar Penguins in a Christmas Caper        2005.0   \n",
      "\n",
      "         revenue     budget     return  \n",
      "588    377350553   25000000  15.094022  \n",
      "763    100138851  100000000   1.001389  \n",
      "4238   186053725  120000000   1.550448  \n",
      "13152          0   60000000   0.000000  \n",
      "16099          0          0   0.000000  \n",
      "25025          0          0   0.000000  \n"
     ]
    },
    {
     "name": "stderr",
     "output_type": "stream",
     "text": [
      "C:\\Users\\diani\\AppData\\Local\\Temp\\ipykernel_18744\\2670479068.py:10: SettingWithCopyWarning: \n",
      "A value is trying to be set on a copy of a slice from a DataFrame.\n",
      "Try using .loc[row_indexer,col_indexer] = value instead\n",
      "\n",
      "See the caveats in the documentation: https://pandas.pydata.org/pandas-docs/stable/user_guide/indexing.html#returning-a-view-versus-a-copy\n",
      "  df_directors['director_names'] = directors\n",
      "C:\\Users\\diani\\AppData\\Local\\Temp\\ipykernel_18744\\2670479068.py:16: FutureWarning: A value is trying to be set on a copy of a DataFrame or Series through chained assignment using an inplace method.\n",
      "The behavior will change in pandas 3.0. This inplace method will never work because the intermediate object on which we are setting values always behaves as a copy.\n",
      "\n",
      "For example, when doing 'df[col].method(value, inplace=True)', try using 'df.method({col: value}, inplace=True)' or df[col] = df[col].method(value) instead, to perform the operation inplace on the original object.\n",
      "\n",
      "\n",
      "  peliculas['return'].fillna(0, inplace=True)\n",
      "C:\\Users\\diani\\AppData\\Local\\Temp\\ipykernel_18744\\2670479068.py:16: SettingWithCopyWarning: \n",
      "A value is trying to be set on a copy of a slice from a DataFrame\n",
      "\n",
      "See the caveats in the documentation: https://pandas.pydata.org/pandas-docs/stable/user_guide/indexing.html#returning-a-view-versus-a-copy\n",
      "  peliculas['return'].fillna(0, inplace=True)\n"
     ]
    }
   ],
   "source": [
    "def get_director( nombre_director ):\n",
    "   \n",
    "    # Filtrar las filas donde el trabajo sea \"Director\" y el nombre sea \"nombre_director\"\n",
    "    df_directors = df_credits[df_credits['Crew'].apply(lambda crew: any(member['job'] == 'Director' and member['name'] == nombre_director for member in crew))]\n",
    "\n",
    "    # Extraer los nombres de los directores\n",
    "    directors = df_directors['Crew'].apply(lambda crew: [member['name'] for member in crew if member['job'] == 'Director' and member['name'] == nombre_director])\n",
    "\n",
    "    # Añadir los nombres de los directores al DataFrame original\n",
    "    df_directors['director_names'] = directors\n",
    "\n",
    "    #comparación peliculas\n",
    "    peliculas = df_movies[df_movies['id'].isin(df_directors['id'])]\n",
    "\n",
    "    # Manejar los valores NaN en la columna 'return' antes de sumar\n",
    "    peliculas['return'].fillna(0, inplace=True)\n",
    "   \n",
    "    print(f\"El director {nombre_director} tiene un nivel de retorno de {round(sum(peliculas['return']),2)}\")\n",
    "    print(peliculas[['id','title', 'release_year','revenue', 'budget','return']])\n",
    "\n",
    "get_director('Gary Trousdale')"
   ]
  },
  {
   "cell_type": "code",
   "execution_count": 90,
   "metadata": {},
   "outputs": [
    {
     "name": "stdout",
     "output_type": "stream",
     "text": [
      "<class 'str'>\n"
     ]
    }
   ],
   "source": [
    "df_credits_pkl = pd.read_pickle(r'C:\\HENRY\\PROYECTOS HENRY 11\\Primer Proyecto Individual\\Datasets\\newCredits.pkl')\n",
    "df_credits_pkl.head(5)\n",
    "df_credits_pkl['directors']=str(df_credits_pkl['directors'])\n",
    "print(type(df_credits_pkl['directors'].loc[1]))"
   ]
  },
  {
   "cell_type": "code",
   "execution_count": 91,
   "metadata": {},
   "outputs": [
    {
     "name": "stdout",
     "output_type": "stream",
     "text": [
      "('gary trousdale', 0, 0.0, 0.0)\n"
     ]
    }
   ],
   "source": [
    "def get_director(nombre_director):\n",
    "    nombre_director = nombre_director.lower()\n",
    "\n",
    "    # Asegurarse de que los valores en la columna 'directors' son cadenas\n",
    "    df_credits_pkl['directors'] = df_credits_pkl['directors'].apply(lambda x: ', '.join(x).lower() if isinstance(x, list) else x.lower())\n",
    "\n",
    "    # Filtrar las filas donde el nombre del director coincide con nombre_director\n",
    "    coincidencias = df_credits_pkl[df_credits_pkl['directors'].str.contains(nombre_director)]\n",
    "\n",
    "    # Verificar que haya coincidencias\n",
    "    if coincidencias.empty:\n",
    "        return nombre_director, 0, 0.0, 0.0\n",
    "\n",
    "    # Comparación de películas\n",
    "    peliculas = df_movies[df_movies['id'].isin(coincidencias['id'])]\n",
    "\n",
    "    # Manejar los valores NaN en la columna 'return' antes de sumar\n",
    "    peliculas['return'].fillna(0, inplace=True)\n",
    "\n",
    "    # Resetear el índice del DataFrame 'peliculas'\n",
    "    peliculas.reset_index(drop=True, inplace=True)\n",
    "    # Obtener el nivel de retorno\n",
    "    nivel_retorno = round(sum(peliculas['return']), 2)\n",
    "\n",
    "    return f\"El director {nombre_director} tiene un nivel de retorno de {nivel_retorno}\", peliculas[['title', 'release_year', 'revenue', 'budget', 'return']]\n",
    "\n",
    "\n",
    "# Prueba la función\n",
    "print(get_director('Gary Trousdale'))\n"
   ]
  },
  {
   "cell_type": "code",
   "execution_count": 92,
   "metadata": {},
   "outputs": [
    {
     "name": "stdout",
     "output_type": "stream",
     "text": [
      "          id    director_names\n",
      "588    10020  [Gary Trousdale]\n",
      "763    10545  [Gary Trousdale]\n",
      "4238   10865  [Gary Trousdale]\n",
      "13152  13394  [Gary Trousdale]\n",
      "16099  48466  [Gary Trousdale]\n",
      "25025  10258  [Gary Trousdale]\n"
     ]
    },
    {
     "name": "stderr",
     "output_type": "stream",
     "text": [
      "C:\\Users\\diani\\AppData\\Local\\Temp\\ipykernel_18744\\3560491521.py:8: SettingWithCopyWarning: \n",
      "A value is trying to be set on a copy of a slice from a DataFrame.\n",
      "Try using .loc[row_indexer,col_indexer] = value instead\n",
      "\n",
      "See the caveats in the documentation: https://pandas.pydata.org/pandas-docs/stable/user_guide/indexing.html#returning-a-view-versus-a-copy\n",
      "  df_directors['director_names'] = directors\n"
     ]
    }
   ],
   "source": [
    "# Filtrar las filas donde el trabajo sea \"Director\" y el nombre sea \"Gary Trousdale\"\n",
    "df_directors = df_credits[df_credits['Crew'].apply(lambda crew: any(member['job'] == 'Director' and member['name'] == 'Gary Trousdale' for member in crew))]\n",
    "\n",
    "# Extraer los nombres de los directores\n",
    "directors = df_directors['Crew'].apply(lambda crew: [member['name'] for member in crew if member['job'] == 'Director' and member['name'] == 'Gary Trousdale'])\n",
    "\n",
    "# Añadir los nombres de los directores al DataFrame original\n",
    "df_directors['director_names'] = directors\n",
    "\n",
    "# Mostrar los IDs de las películas y los nombres de los directores\n",
    "print(df_directors[['id', 'director_names']])\n",
    "\n"
   ]
  },
  {
   "cell_type": "markdown",
   "metadata": {},
   "source": [
    "Modelo: Éste consiste en recomendar películas a los usuarios basándose en películas similares, por lo que se debe encontrar la similitud de puntuación entre esa película y el resto de películas, se ordenarán según el score de similaridad y devolverá una lista de Python con 5 valores, cada uno siendo el string del nombre de las películas con mayor puntaje, en orden descendente."
   ]
  },
  {
   "cell_type": "code",
   "execution_count": 93,
   "metadata": {},
   "outputs": [
    {
     "name": "stdout",
     "output_type": "stream",
     "text": [
      "Películas similares a 'Open Season':\n",
      " ['Open Season', 'Open Season', 'Open Season 2', 'Open Season: Scared Silly', 'Open House']\n"
     ]
    }
   ],
   "source": [
    "# Similitud del coseno usando titulo\n",
    "\n",
    "df_titulos = pd.DataFrame(df_movies, columns=[\"title\"])\n",
    "df_titulos.head(2)\n",
    "vectorizer = TfidfVectorizer()\n",
    "titulos_transform = vectorizer.fit_transform(df_titulos[\"title\"])\n",
    "\n",
    "def recomendacion( titulo, titulos_transform, df_titulos, top_n=5 ): \n",
    "# Encontrar el índice de la película seleccionada\n",
    "    idx = df_titulos[df_titulos[\"title\"] == titulo].index[0]\n",
    "# Calcular la similitud del coseno entre la película seleccionada y el resto\n",
    "    cosine_similarities = cosine_similarity(titulos_transform[idx], titulos_transform).flatten()\n",
    "\n",
    "# Obtener los índices de las películas más similares\n",
    "    similar_indices = cosine_similarities.argsort()[-top_n-1:-1][::-1]\n",
    "# Recuperar los títulos de las películas similares\n",
    "    similar_movies = df_movies.iloc[similar_indices]\n",
    "\n",
    "    return similar_movies[\"title\"].tolist()\n",
    "\n",
    "movie_to_recommend = \"Open Season\"\n",
    "recommendations = recomendacion(movie_to_recommend, titulos_transform, df_titulos)\n",
    "print(f\"Películas similares a '{movie_to_recommend}':\\n\", recommendations)\n"
   ]
  },
  {
   "cell_type": "code",
   "execution_count": 94,
   "metadata": {},
   "outputs": [
    {
     "name": "stdout",
     "output_type": "stream",
     "text": [
      "                                           title  similarity_score\n",
      "0       From Dusk Till Dawn 2: Texas Blood Money          0.789116\n",
      "1  From Dusk Till Dawn 3: The Hangman's Daughter          0.739189\n",
      "2                                           Dusk          0.615519\n",
      "3                             Lights in the Dusk          0.491312\n",
      "4                                   Another Dawn          0.454412\n"
     ]
    }
   ],
   "source": [
    "# Similitud del coseno usando titulo y genero\n",
    "\n",
    "def recommend_movies(movie_title, df= df_movies, title_col='title', genre_col='genres', num_recommendations=5):\n",
    "    # Unir título y géneros en un texto\n",
    "    def process_genres(genres):\n",
    "        if isinstance(genres, str):  # Si es una cadena, intenta convertirla a lista de diccionarios\n",
    "            try:\n",
    "                genres = json.loads(genres.replace(\"'\", \"\\\"\"))\n",
    "            except json.JSONDecodeError:\n",
    "                return \"\"\n",
    "        # Une los nombres de los géneros si es una lista de diccionarios\n",
    "        return ' '.join([genre['name'] for genre in genres if isinstance(genre, dict) and 'name' in genre])\n",
    "\n",
    "    # Aplicar la función de procesamiento a la columna 'genres'\n",
    "    df['combined_features'] = df[title_col] + ' ' + df[genre_col].apply(process_genres)\n",
    "\n",
    "    # Vectorizar las características combinadas\n",
    "    vectorizer = TfidfVectorizer(stop_words='english')\n",
    "    combined_matrix = vectorizer.fit_transform(df['combined_features'])\n",
    "\n",
    "    # Encontrar el índice de la película objetivo\n",
    "    target_index = df[df[title_col] == movie_title].index[0]\n",
    "\n",
    "    # Calcular la similitud del coseno\n",
    "    cosine_similarities = cosine_similarity(combined_matrix[target_index], combined_matrix).flatten()\n",
    "\n",
    "    # Obtener índices de películas similares en orden descendente\n",
    "    similar_indices = cosine_similarities.argsort()[::-1][1:num_recommendations + 1]\n",
    "\n",
    "    # Crear un DataFrame con las recomendaciones y los puntajes de similitud\n",
    "    recommendations = pd.DataFrame({\n",
    "        'title': df.iloc[similar_indices][title_col].values,\n",
    "        'similarity_score': cosine_similarities[similar_indices]\n",
    "    }).sort_values(by='similarity_score', ascending=False)\n",
    "\n",
    "    return recommendations\n",
    "\n",
    "\n",
    "recomendaciones = recommend_movies('From Dusk Till Dawn')\n",
    "print(recomendaciones)\n"
   ]
  },
  {
   "cell_type": "markdown",
   "metadata": {},
   "source": [
    "REDUCCIÓN DATA CREDITS: De Cast eliminamos \"credit_id\" y \"profile_path\" y de Crew conservamos unicamente el director de la pelicula. "
   ]
  },
  {
   "cell_type": "code",
   "execution_count": 95,
   "metadata": {},
   "outputs": [],
   "source": [
    "df_creditsP = pd.read_pickle(r'C:\\HENRY\\PROYECTOS HENRY 11\\df_credits.pkl')"
   ]
  },
  {
   "cell_type": "code",
   "execution_count": 96,
   "metadata": {},
   "outputs": [
    {
     "data": {
      "text/html": [
       "<div>\n",
       "<style scoped>\n",
       "    .dataframe tbody tr th:only-of-type {\n",
       "        vertical-align: middle;\n",
       "    }\n",
       "\n",
       "    .dataframe tbody tr th {\n",
       "        vertical-align: top;\n",
       "    }\n",
       "\n",
       "    .dataframe thead th {\n",
       "        text-align: right;\n",
       "    }\n",
       "</style>\n",
       "<table border=\"1\" class=\"dataframe\">\n",
       "  <thead>\n",
       "    <tr style=\"text-align: right;\">\n",
       "      <th></th>\n",
       "      <th>id</th>\n",
       "      <th>Cast</th>\n",
       "      <th>directors</th>\n",
       "    </tr>\n",
       "  </thead>\n",
       "  <tbody>\n",
       "    <tr>\n",
       "      <th>0</th>\n",
       "      <td>862</td>\n",
       "      <td>[{'cast_id': 14, 'character': 'Woody (voice)',...</td>\n",
       "      <td>[John Lasseter]</td>\n",
       "    </tr>\n",
       "    <tr>\n",
       "      <th>1</th>\n",
       "      <td>8844</td>\n",
       "      <td>[{'cast_id': 1, 'character': 'Alan Parrish', '...</td>\n",
       "      <td>[Joe Johnston]</td>\n",
       "    </tr>\n",
       "    <tr>\n",
       "      <th>2</th>\n",
       "      <td>15602</td>\n",
       "      <td>[{'cast_id': 2, 'character': 'Max Goldman', 'c...</td>\n",
       "      <td>[Howard Deutch]</td>\n",
       "    </tr>\n",
       "  </tbody>\n",
       "</table>\n",
       "</div>"
      ],
      "text/plain": [
       "      id                                               Cast        directors\n",
       "0    862  [{'cast_id': 14, 'character': 'Woody (voice)',...  [John Lasseter]\n",
       "1   8844  [{'cast_id': 1, 'character': 'Alan Parrish', '...   [Joe Johnston]\n",
       "2  15602  [{'cast_id': 2, 'character': 'Max Goldman', 'c...  [Howard Deutch]"
      ]
     },
     "execution_count": 96,
     "metadata": {},
     "output_type": "execute_result"
    }
   ],
   "source": [
    "def get_directors(crew):   \n",
    "    if isinstance(crew, list):\n",
    "        return [member['name'] for member in crew if 'job' in member and member['job'] == 'Director' and 'name' in member]\n",
    "    return []\n",
    "\n",
    "# Crear el nuevo DataFrame\n",
    "newCredits = pd.DataFrame({\n",
    "    'id': df_creditsP['id'],\n",
    "    'Cast': df_creditsP['Cast'],\n",
    "    'directors': df_creditsP['Crew'].apply(get_directors)\n",
    "})\n",
    "\n",
    "# Mostrar las primeras filas del nuevo DataFrame\n",
    "newCredits.head(3)\n"
   ]
  },
  {
   "cell_type": "code",
   "execution_count": 102,
   "metadata": {},
   "outputs": [
    {
     "data": {
      "text/html": [
       "<div>\n",
       "<style scoped>\n",
       "    .dataframe tbody tr th:only-of-type {\n",
       "        vertical-align: middle;\n",
       "    }\n",
       "\n",
       "    .dataframe tbody tr th {\n",
       "        vertical-align: top;\n",
       "    }\n",
       "\n",
       "    .dataframe thead th {\n",
       "        text-align: right;\n",
       "    }\n",
       "</style>\n",
       "<table border=\"1\" class=\"dataframe\">\n",
       "  <thead>\n",
       "    <tr style=\"text-align: right;\">\n",
       "      <th></th>\n",
       "      <th>id</th>\n",
       "      <th>Cast</th>\n",
       "      <th>directors</th>\n",
       "    </tr>\n",
       "  </thead>\n",
       "  <tbody>\n",
       "    <tr>\n",
       "      <th>0</th>\n",
       "      <td>862</td>\n",
       "      <td>[{'character': 'Woody (voice)', 'gender': 2, '...</td>\n",
       "      <td>[John Lasseter]</td>\n",
       "    </tr>\n",
       "  </tbody>\n",
       "</table>\n",
       "</div>"
      ],
      "text/plain": [
       "    id                                               Cast        directors\n",
       "0  862  [{'character': 'Woody (voice)', 'gender': 2, '...  [John Lasseter]"
      ]
     },
     "execution_count": 102,
     "metadata": {},
     "output_type": "execute_result"
    }
   ],
   "source": [
    "def remove_unwanted_keys(cast):\n",
    "    keys_to_remove = ['profile_path', 'credit_id', 'cast_id', 'order']\n",
    "    if isinstance(cast, list):\n",
    "        return [{k: v for k, v in member.items() if k not in keys_to_remove} for member in cast]\n",
    "    return []\n",
    "\n",
    "newCredits['Cast'] = newCredits['Cast'].apply(remove_unwanted_keys)\n",
    "newCredits.head(1)"
   ]
  },
  {
   "cell_type": "code",
   "execution_count": 98,
   "metadata": {},
   "outputs": [],
   "source": [
    "#newCredits.to_pickle('newCredits.pkl')"
   ]
  },
  {
   "cell_type": "code",
   "execution_count": 103,
   "metadata": {},
   "outputs": [],
   "source": [
    "newCredits.to_parquet('newCredits.parquet')"
   ]
  },
  {
   "cell_type": "code",
   "execution_count": 101,
   "metadata": {},
   "outputs": [
    {
     "name": "stdout",
     "output_type": "stream",
     "text": [
      "Valores únicos de 'order': [  0   1   2   3   4   5   6   7   8   9  10  11  12  13  14  15  16  17\n",
      "  18  19  20  21  22  23  24  25  26  27  28  29  30  31  32  33  34  35\n",
      "  36  37  38  39  40  41  42  43  44  45  46  47  48  49  50  51  52  53\n",
      "  54  55  56  57  58  59  60  61  62  63  64  65  66  67  68  69  72  73\n",
      "  74  75  76  77  78  79  80  81  70  71  82  83  84  85  86  87  88  89\n",
      "  90  91  92  93  94  95  96  97  98  99 100 101 102 103 104 105 106 107\n",
      " 108 109 110 111 112 113 114 115 116 117 118 119 120 121 122 123 124 125\n",
      " 126 127 128 129 130 131 132 133 134 135 136 137 138 139 140 141 142 143\n",
      " 144 145 146 147 148 149 150 151 152 153 154 155 156 157 158 159 160 161\n",
      " 162 163 164 165 166 167 168 169 170 171 172 173 174 175 176 177 178 179\n",
      " 180 181 182 183 184 185 186 187 188 189 190 191 192 193 194 195 196 197\n",
      " 198 199 200 201 202 203 204 205 206 207 208 209 210 211 212 213 214 215\n",
      " 216 217 218 219 220 221 222 223 224 225 226 227 228 229 230 231 232 233\n",
      " 234 235 236 237 238 239 240 241 242 243 244 245 246 247 248 249 250 251\n",
      " 252 253 254 255 256 257 258 259 260 261 262 263 264 265 266 267 268 269\n",
      " 270 271 272 273 274 275 276 277 278 279 280 281 282 283 285 286 287 288\n",
      " 289 290 291 292 293 294 295 296 297 298 299 300 301 302 303 304 305 306\n",
      " 307 308 309 310 311 312 313]\n"
     ]
    }
   ],
   "source": [
    "import pandas as pd\n",
    "\n",
    "# Supongamos que df_credits_pkl ya está cargado como un DataFrame de pandas\n",
    "\n",
    "# Extraer todos los elementos dentro de 'Cast' en una lista plana\n",
    "cast_list = df_credits_pkl['Cast'].explode()\n",
    "\n",
    "# Filtrar None valores en cast_list\n",
    "cast_list = cast_list[cast_list.notna()]\n",
    "\n",
    "# Crear un DataFrame con los elementos de 'Cast'\n",
    "cast_df = pd.DataFrame(cast_list.tolist())\n",
    "\n",
    "# Obtener los valores únicos de 'order'\n",
    "unique_orders = cast_df['order'].unique()\n",
    "\n",
    "print(\"Valores únicos de 'order':\", unique_orders)\n"
   ]
  }
 ],
 "metadata": {
  "kernelspec": {
   "display_name": "Python 3",
   "language": "python",
   "name": "python3"
  },
  "language_info": {
   "codemirror_mode": {
    "name": "ipython",
    "version": 3
   },
   "file_extension": ".py",
   "mimetype": "text/x-python",
   "name": "python",
   "nbconvert_exporter": "python",
   "pygments_lexer": "ipython3",
   "version": "3.12.3"
  }
 },
 "nbformat": 4,
 "nbformat_minor": 2
}
