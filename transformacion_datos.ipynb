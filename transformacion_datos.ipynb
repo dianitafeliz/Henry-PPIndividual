{
 "cells": [
  {
   "cell_type": "code",
   "execution_count": 47,
   "metadata": {},
   "outputs": [],
   "source": [
    "import pandas as pd\n",
    "import numpy as np\n",
    "import json\n",
    "from sklearn.feature_extraction.text import TfidfVectorizer\n",
    "from sklearn.metrics.pairwise import cosine_similarity\n",
    "\n"
   ]
  },
  {
   "cell_type": "code",
   "execution_count": 48,
   "metadata": {},
   "outputs": [],
   "source": [
    "# Rutas de los datasets originales\n",
    "ruta_credits = r'C:\\HENRY\\PROYECTOS HENRY 11\\Movies\\credits1.json'\n",
    "#ruta_credits_csv = r'C:\\HENRY\\PROYECTOS HENRY 11\\Movies\\movies_dataset.csv'\n",
    "ruta_movies = r'C:\\HENRY\\PROYECTOS HENRY 11\\Movies\\movies2.json'\n",
    "ruta_credits_reduce = r'C:\\HENRY\\PROYECTOS HENRY 11\\Primer Proyecto Individual\\Datasets\\newCredits.pkl'\n",
    "\n"
   ]
  },
  {
   "cell_type": "code",
   "execution_count": 49,
   "metadata": {},
   "outputs": [],
   "source": [
    "credits_lista = []\n",
    "with open(ruta_credits, 'rt', encoding='utf-8') as f:\n",
    "    for line_num, line in enumerate(f, 1):\n",
    "        line = line.strip()\n",
    "        if line:\n",
    "            try:\n",
    "                credits_lista.append(json.loads(line))\n",
    "            except json.JSONDecodeError as e:\n",
    "                print(f\"Error en la línea {line_num}: {line}\")\n",
    "                print(f\"Detalle del error: {e}\")\n",
    "df_credits = pd.DataFrame(credits_lista)\n"
   ]
  },
  {
   "cell_type": "code",
   "execution_count": 50,
   "metadata": {},
   "outputs": [
    {
     "data": {
      "text/html": [
       "<div>\n",
       "<style scoped>\n",
       "    .dataframe tbody tr th:only-of-type {\n",
       "        vertical-align: middle;\n",
       "    }\n",
       "\n",
       "    .dataframe tbody tr th {\n",
       "        vertical-align: top;\n",
       "    }\n",
       "\n",
       "    .dataframe thead th {\n",
       "        text-align: right;\n",
       "    }\n",
       "</style>\n",
       "<table border=\"1\" class=\"dataframe\">\n",
       "  <thead>\n",
       "    <tr style=\"text-align: right;\">\n",
       "      <th></th>\n",
       "      <th>Cast</th>\n",
       "      <th>Crew</th>\n",
       "      <th>id</th>\n",
       "    </tr>\n",
       "  </thead>\n",
       "  <tbody>\n",
       "    <tr>\n",
       "      <th>0</th>\n",
       "      <td>[{'cast_id': 14, 'character': 'Woody (voice)',...</td>\n",
       "      <td>[{'credit_id': '52fe4284c3a36847f8024f49', 'de...</td>\n",
       "      <td>862</td>\n",
       "    </tr>\n",
       "    <tr>\n",
       "      <th>1</th>\n",
       "      <td>[{'cast_id': 1, 'character': 'Alan Parrish', '...</td>\n",
       "      <td>[{'credit_id': '52fe44bfc3a36847f80a7cd1', 'de...</td>\n",
       "      <td>8844</td>\n",
       "    </tr>\n",
       "    <tr>\n",
       "      <th>2</th>\n",
       "      <td>[{'cast_id': 2, 'character': 'Max Goldman', 'c...</td>\n",
       "      <td>[{'credit_id': '52fe466a9251416c75077a89', 'de...</td>\n",
       "      <td>15602</td>\n",
       "    </tr>\n",
       "    <tr>\n",
       "      <th>3</th>\n",
       "      <td>[{'cast_id': 1, 'character': ''Savannah 'Vanna...</td>\n",
       "      <td>[{'credit_id': '52fe44779251416c91011acb', 'de...</td>\n",
       "      <td>31357</td>\n",
       "    </tr>\n",
       "    <tr>\n",
       "      <th>4</th>\n",
       "      <td>[{'cast_id': 1, 'character': 'George Banks', '...</td>\n",
       "      <td>[{'credit_id': '52fe44959251416c75039ed7', 'de...</td>\n",
       "      <td>11862</td>\n",
       "    </tr>\n",
       "  </tbody>\n",
       "</table>\n",
       "</div>"
      ],
      "text/plain": [
       "                                                Cast  \\\n",
       "0  [{'cast_id': 14, 'character': 'Woody (voice)',...   \n",
       "1  [{'cast_id': 1, 'character': 'Alan Parrish', '...   \n",
       "2  [{'cast_id': 2, 'character': 'Max Goldman', 'c...   \n",
       "3  [{'cast_id': 1, 'character': ''Savannah 'Vanna...   \n",
       "4  [{'cast_id': 1, 'character': 'George Banks', '...   \n",
       "\n",
       "                                                Crew     id  \n",
       "0  [{'credit_id': '52fe4284c3a36847f8024f49', 'de...    862  \n",
       "1  [{'credit_id': '52fe44bfc3a36847f80a7cd1', 'de...   8844  \n",
       "2  [{'credit_id': '52fe466a9251416c75077a89', 'de...  15602  \n",
       "3  [{'credit_id': '52fe44779251416c91011acb', 'de...  31357  \n",
       "4  [{'credit_id': '52fe44959251416c75039ed7', 'de...  11862  "
      ]
     },
     "execution_count": 50,
     "metadata": {},
     "output_type": "execute_result"
    }
   ],
   "source": [
    "df_credits.head()"
   ]
  },
  {
   "cell_type": "code",
   "execution_count": 51,
   "metadata": {},
   "outputs": [],
   "source": [
    "#df = pd.read_csv(ruta_credits_csv)\n",
    "#df.to_json('movies2.json', orient='records', lines=True)"
   ]
  },
  {
   "cell_type": "code",
   "execution_count": 52,
   "metadata": {},
   "outputs": [],
   "source": [
    "movies_lista = []\n",
    "with open(ruta_movies, 'rt', encoding='utf-8') as f:\n",
    "    for line_num, line in enumerate(f, 1):\n",
    "        line = line.strip()\n",
    "        if line:\n",
    "            try:\n",
    "                movies_lista.append(json.loads(line))\n",
    "            except json.JSONDecodeError as e:\n",
    "                print(f\"Error en la línea {line_num}: {line}\")\n",
    "                print(f\"Detalle del error: {e}\")\n",
    "df_movies = pd.DataFrame(movies_lista)\n"
   ]
  },
  {
   "cell_type": "code",
   "execution_count": 53,
   "metadata": {},
   "outputs": [
    {
     "data": {
      "text/html": [
       "<div>\n",
       "<style scoped>\n",
       "    .dataframe tbody tr th:only-of-type {\n",
       "        vertical-align: middle;\n",
       "    }\n",
       "\n",
       "    .dataframe tbody tr th {\n",
       "        vertical-align: top;\n",
       "    }\n",
       "\n",
       "    .dataframe thead th {\n",
       "        text-align: right;\n",
       "    }\n",
       "</style>\n",
       "<table border=\"1\" class=\"dataframe\">\n",
       "  <thead>\n",
       "    <tr style=\"text-align: right;\">\n",
       "      <th></th>\n",
       "      <th>adult</th>\n",
       "      <th>belongs_to_collection</th>\n",
       "      <th>budget</th>\n",
       "      <th>genres</th>\n",
       "      <th>homepage</th>\n",
       "      <th>id</th>\n",
       "      <th>imdb_id</th>\n",
       "      <th>original_language</th>\n",
       "      <th>original_title</th>\n",
       "      <th>overview</th>\n",
       "      <th>...</th>\n",
       "      <th>release_date</th>\n",
       "      <th>revenue</th>\n",
       "      <th>runtime</th>\n",
       "      <th>spoken_languages</th>\n",
       "      <th>status</th>\n",
       "      <th>tagline</th>\n",
       "      <th>title</th>\n",
       "      <th>video</th>\n",
       "      <th>vote_average</th>\n",
       "      <th>vote_count</th>\n",
       "    </tr>\n",
       "  </thead>\n",
       "  <tbody>\n",
       "    <tr>\n",
       "      <th>0</th>\n",
       "      <td>False</td>\n",
       "      <td>{'id': 10194, 'name': 'Toy Story Collection', ...</td>\n",
       "      <td>30000000</td>\n",
       "      <td>[{'id': 16, 'name': 'Animation'}, {'id': 35, '...</td>\n",
       "      <td>http://toystory.disney.com/toy-story</td>\n",
       "      <td>862</td>\n",
       "      <td>tt0114709</td>\n",
       "      <td>en</td>\n",
       "      <td>Toy Story</td>\n",
       "      <td>Led by Woody, Andy's toys live happily in his ...</td>\n",
       "      <td>...</td>\n",
       "      <td>1995-10-30</td>\n",
       "      <td>373554033</td>\n",
       "      <td>81.0</td>\n",
       "      <td>[{'iso_639_1': 'en', 'name': 'English'}]</td>\n",
       "      <td>Released</td>\n",
       "      <td>None</td>\n",
       "      <td>Toy Story</td>\n",
       "      <td>False</td>\n",
       "      <td>7.7</td>\n",
       "      <td>5415</td>\n",
       "    </tr>\n",
       "  </tbody>\n",
       "</table>\n",
       "<p>1 rows × 24 columns</p>\n",
       "</div>"
      ],
      "text/plain": [
       "   adult                              belongs_to_collection    budget  \\\n",
       "0  False  {'id': 10194, 'name': 'Toy Story Collection', ...  30000000   \n",
       "\n",
       "                                              genres  \\\n",
       "0  [{'id': 16, 'name': 'Animation'}, {'id': 35, '...   \n",
       "\n",
       "                               homepage   id    imdb_id original_language  \\\n",
       "0  http://toystory.disney.com/toy-story  862  tt0114709                en   \n",
       "\n",
       "  original_title                                           overview  ...  \\\n",
       "0      Toy Story  Led by Woody, Andy's toys live happily in his ...  ...   \n",
       "\n",
       "   release_date    revenue runtime                          spoken_languages  \\\n",
       "0    1995-10-30  373554033    81.0  [{'iso_639_1': 'en', 'name': 'English'}]   \n",
       "\n",
       "     status  tagline      title  video vote_average vote_count  \n",
       "0  Released     None  Toy Story  False          7.7       5415  \n",
       "\n",
       "[1 rows x 24 columns]"
      ]
     },
     "execution_count": 53,
     "metadata": {},
     "output_type": "execute_result"
    }
   ],
   "source": [
    "df_movies.head(1)"
   ]
  },
  {
   "cell_type": "code",
   "execution_count": 54,
   "metadata": {},
   "outputs": [],
   "source": [
    "#Cambiar valores nulos en revenue por 0\n",
    "df_movies['revenue'] = np.where(pd.isnull(df_movies['revenue']), 0, df_movies['revenue'])"
   ]
  },
  {
   "cell_type": "code",
   "execution_count": 55,
   "metadata": {},
   "outputs": [],
   "source": [
    "#Cambiar valores nulos en revenue por 0\n",
    "df_movies['budget'] = np.where(pd.isnull(df_movies['budget']), 0, df_movies['budget'])"
   ]
  },
  {
   "cell_type": "code",
   "execution_count": 56,
   "metadata": {},
   "outputs": [
    {
     "data": {
      "text/plain": [
       "0        1995-10-30\n",
       "1        1995-12-15\n",
       "2        1995-12-22\n",
       "3        1995-12-22\n",
       "4        1995-02-10\n",
       "            ...    \n",
       "45457    1991-05-13\n",
       "45459    2011-11-17\n",
       "45460    2003-08-01\n",
       "45461    1917-10-21\n",
       "45462    2017-06-09\n",
       "Name: release_date, Length: 45379, dtype: object"
      ]
     },
     "execution_count": 56,
     "metadata": {},
     "output_type": "execute_result"
    }
   ],
   "source": [
    "df_movies['release_date'].dropna()"
   ]
  },
  {
   "cell_type": "code",
   "execution_count": 57,
   "metadata": {},
   "outputs": [
    {
     "data": {
      "text/plain": [
       "Index(['adult', 'belongs_to_collection', 'budget', 'genres', 'homepage', 'id',\n",
       "       'imdb_id', 'original_language', 'original_title', 'overview',\n",
       "       'popularity', 'poster_path', 'production_companies',\n",
       "       'production_countries', 'release_date', 'revenue', 'runtime',\n",
       "       'spoken_languages', 'status', 'tagline', 'title', 'video',\n",
       "       'vote_average', 'vote_count'],\n",
       "      dtype='object')"
      ]
     },
     "execution_count": 57,
     "metadata": {},
     "output_type": "execute_result"
    }
   ],
   "source": [
    "df_movies.columns"
   ]
  },
  {
   "cell_type": "markdown",
   "metadata": {},
   "source": [
    "DESEMPAQUETAR"
   ]
  },
  {
   "cell_type": "code",
   "execution_count": 58,
   "metadata": {},
   "outputs": [
    {
     "name": "stdout",
     "output_type": "stream",
     "text": [
      "      id  cast_cast_id                  cast_character  \\\n",
      "0    862          14.0                   Woody (voice)   \n",
      "1    862          15.0          Buzz Lightyear (voice)   \n",
      "2    862          16.0         Mr. Potato Head (voice)   \n",
      "3    862          17.0              Slinky Dog (voice)   \n",
      "4    862          18.0                     Rex (voice)   \n",
      "5    862          19.0                    Hamm (voice)   \n",
      "6    862          20.0                 Bo Peep (voice)   \n",
      "7    862          26.0                    Andy (voice)   \n",
      "8    862          22.0                     Sid (voice)   \n",
      "9    862          23.0              Mrs. Davis (voice)   \n",
      "10   862          24.0                Sergeant (voice)   \n",
      "11   862          25.0                  Hannah (voice)   \n",
      "12   862          27.0            TV Announcer (voice)   \n",
      "13  8844           1.0                    Alan Parrish   \n",
      "14  8844           8.0  Samuel Alan Parrish / Van Pelt   \n",
      "15  8844           2.0                    Judy Sheperd   \n",
      "16  8844          24.0                  Peter Shepherd   \n",
      "17  8844          10.0                   Sarah Whittle   \n",
      "18  8844          25.0                   Nora Shepherd   \n",
      "19  8844          26.0                    Carl Bentley   \n",
      "\n",
      "              cast_credit_id  cast_gender    cast_id          cast_name  \\\n",
      "0   52fe4284c3a36847f8024f95          2.0       31.0          Tom Hanks   \n",
      "1   52fe4284c3a36847f8024f99          2.0    12898.0          Tim Allen   \n",
      "2   52fe4284c3a36847f8024f9d          2.0     7167.0        Don Rickles   \n",
      "3   52fe4284c3a36847f8024fa1          2.0    12899.0         Jim Varney   \n",
      "4   52fe4284c3a36847f8024fa5          2.0    12900.0      Wallace Shawn   \n",
      "5   52fe4284c3a36847f8024fa9          2.0     7907.0  John Ratzenberger   \n",
      "6   52fe4284c3a36847f8024fad          1.0     8873.0        Annie Potts   \n",
      "7   52fe4284c3a36847f8024fc1          0.0  1116442.0        John Morris   \n",
      "8   52fe4284c3a36847f8024fb1          2.0    12901.0    Erik von Detten   \n",
      "9   52fe4284c3a36847f8024fb5          1.0    12133.0     Laurie Metcalf   \n",
      "10  52fe4284c3a36847f8024fb9          2.0     8655.0       R. Lee Ermey   \n",
      "11  52fe4284c3a36847f8024fbd          1.0    12903.0      Sarah Freeman   \n",
      "12  52fe4284c3a36847f8024fc5          2.0    37221.0      Penn Jillette   \n",
      "13  52fe44bfc3a36847f80a7c73          2.0     2157.0     Robin Williams   \n",
      "14  52fe44bfc3a36847f80a7c99          2.0     8537.0      Jonathan Hyde   \n",
      "15  52fe44bfc3a36847f80a7c77          1.0      205.0      Kirsten Dunst   \n",
      "16  52fe44c0c3a36847f80a7ce7          0.0   145151.0     Bradley Pierce   \n",
      "17  52fe44bfc3a36847f80a7c9d          1.0     5149.0        Bonnie Hunt   \n",
      "18  52fe44c0c3a36847f80a7ceb          1.0    10739.0      Bebe Neuwirth   \n",
      "19  52fe44c0c3a36847f80a7cef          2.0    58563.0   David Alan Grier   \n",
      "\n",
      "    cast_order                 cast_profile_path  \n",
      "0          0.0  /pQFoyx7rp09CJTAb932F2g8Nlho.jpg  \n",
      "1          1.0  /uX2xVf6pMmPepxnvFWyBtjexzgY.jpg  \n",
      "2          2.0  /h5BcaDMPRVLHLDzbQavec4xfSdt.jpg  \n",
      "3          3.0  /eIo2jVVXYgjDtaHoF19Ll9vtW7h.jpg  \n",
      "4          4.0  /oGE6JqPP2xH4tNORKNqxbNPYi7u.jpg  \n",
      "5          5.0  /yGechiKWL6TJDfVE2KPSJYqdMsY.jpg  \n",
      "6          6.0  /eryXT84RL41jHSJcMy4kS3u9y6w.jpg  \n",
      "7          7.0  /vYGyvK4LzeaUCoNSHtsuqJUY15M.jpg  \n",
      "8          8.0  /twnF1ZaJ1FUNUuo6xLXwcxjayBE.jpg  \n",
      "9          9.0  /unMMIT60eoBM2sN2nyR7EZ2BvvD.jpg  \n",
      "10        10.0  /r8GBqFBjypLUP9VVqDqfZ7wYbSs.jpg  \n",
      "11        11.0                              None  \n",
      "12        12.0  /zmAaXUdx12NRsssgHbk1T31j2x9.jpg  \n",
      "13         0.0  /sojtJyIV3lkUeThD7A2oHNm8183.jpg  \n",
      "14         1.0  /7il5D76vx6QVRVlpVvBPEC40MBi.jpg  \n",
      "15         2.0  /wBXvh6PJd0IUVNpvatPC1kzuHtm.jpg  \n",
      "16         3.0  /j6iW0vVA23GQniAPSYI6mi4hiEW.jpg  \n",
      "17         4.0  /7spiVQwmr8siw5QCcvvdRG3c7Lf.jpg  \n",
      "18         5.0  /xm58rpMRVDHS0IGttw1pTlqGwkN.jpg  \n",
      "19         6.0  /5tkt3qRZTco4sz604aTIarQ0m8W.jpg  \n"
     ]
    }
   ],
   "source": [
    "# Desanidar la columna 'Cast'\n",
    "df_credits_expanded_cast = df_credits.explode('Cast')\n",
    "\n",
    "# Normalizar la columna 'Cast'\n",
    "df_credits_cast = pd.json_normalize(df_credits_expanded_cast['Cast'])\n",
    "\n",
    "# Renombrar las columnas de 'Cast'\n",
    "df_credits_cast.columns = [f\"cast_{col}\" for col in df_credits_cast.columns]\n",
    "\n",
    "# Combinar los DataFrames con 'id' y 'Crew'\n",
    "df_credits_cast = pd.concat([\n",
    "    df_credits_expanded_cast[['id']].reset_index(drop=True),\n",
    "    df_credits_cast.reset_index(drop=True)\n",
    "], axis=1)\n",
    "\n",
    "print(df_credits_cast.head(20))\n"
   ]
  },
  {
   "cell_type": "code",
   "execution_count": 59,
   "metadata": {},
   "outputs": [],
   "source": [
    "#df_credits_exp.to_json('df_combined.json', lines=True, orient='records')\n",
    "#df_credits_exp.to_parquet('df_credits_exp.parquet',engine='pyarrow' )"
   ]
  },
  {
   "cell_type": "code",
   "execution_count": 60,
   "metadata": {},
   "outputs": [
    {
     "name": "stdout",
     "output_type": "stream",
     "text": [
      "<class 'pandas._libs.tslibs.timestamps.Timestamp'>\n"
     ]
    }
   ],
   "source": [
    "# Cambiamos el tipo de dato de la columna 'release_date' str a datetime\n",
    "df_movies['release_date'] = pd.to_datetime(df_movies['release_date'], format='%Y-%m-%d')\n",
    "\n",
    "# Verificamos el tipo de dato de la columna\n",
    "print(type(df_movies['release_date'].loc[2]))\n"
   ]
  },
  {
   "cell_type": "code",
   "execution_count": 61,
   "metadata": {},
   "outputs": [],
   "source": [
    "#Creamos la columna 'release_year', la cual se obtiene de sacar el año de la columna 'release_date'\n",
    "df_movies['release_year']=df_movies['release_date'].dt.year"
   ]
  },
  {
   "cell_type": "code",
   "execution_count": 62,
   "metadata": {},
   "outputs": [],
   "source": [
    "#Creamos columna 'return', la cual es el resultado de revenue / budget\n",
    "df_movies['return']=df_movies['revenue']/df_movies['budget']"
   ]
  },
  {
   "cell_type": "code",
   "execution_count": 63,
   "metadata": {},
   "outputs": [
    {
     "name": "stdout",
     "output_type": "stream",
     "text": [
      "262797249\n",
      "65000000\n",
      "4.0430346\n"
     ]
    }
   ],
   "source": [
    "#Prueba\n",
    "print(df_movies['revenue'].loc[1])\n",
    "print(df_movies['budget'].loc[1])\n",
    "print(df_movies['return'].loc[1])"
   ]
  },
  {
   "cell_type": "code",
   "execution_count": 64,
   "metadata": {},
   "outputs": [],
   "source": [
    "#Eliminamos algunas columnas\n",
    "df_movies = df_movies.drop(columns=['video', 'imdb_id', 'adult', 'original_title', 'poster_path', 'homepage'])"
   ]
  },
  {
   "cell_type": "code",
   "execution_count": 65,
   "metadata": {},
   "outputs": [
    {
     "data": {
      "text/plain": [
       "Index(['belongs_to_collection', 'budget', 'genres', 'id', 'original_language',\n",
       "       'overview', 'popularity', 'production_companies',\n",
       "       'production_countries', 'release_date', 'revenue', 'runtime',\n",
       "       'spoken_languages', 'status', 'tagline', 'title', 'vote_average',\n",
       "       'vote_count', 'release_year', 'return'],\n",
       "      dtype='object')"
      ]
     },
     "execution_count": 65,
     "metadata": {},
     "output_type": "execute_result"
    }
   ],
   "source": [
    "df_movies.columns"
   ]
  },
  {
   "cell_type": "code",
   "execution_count": 66,
   "metadata": {},
   "outputs": [],
   "source": [
    "#Transformando DataFrame a parquet \n",
    "\n",
    "#df_credits.to_parquet('credits.parquet', engine='pyarrow')\n"
   ]
  },
  {
   "cell_type": "code",
   "execution_count": 67,
   "metadata": {},
   "outputs": [],
   "source": [
    "#df_movies.to_json('movies.json')"
   ]
  },
  {
   "cell_type": "code",
   "execution_count": 68,
   "metadata": {},
   "outputs": [
    {
     "data": {
      "text/plain": [
       "Index(['belongs_to_collection', 'budget', 'genres', 'id', 'original_language',\n",
       "       'overview', 'popularity', 'production_companies',\n",
       "       'production_countries', 'release_date', 'revenue', 'runtime',\n",
       "       'spoken_languages', 'status', 'tagline', 'title', 'vote_average',\n",
       "       'vote_count', 'release_year', 'return'],\n",
       "      dtype='object')"
      ]
     },
     "execution_count": 68,
     "metadata": {},
     "output_type": "execute_result"
    }
   ],
   "source": [
    "df_movies.columns"
   ]
  },
  {
   "cell_type": "markdown",
   "metadata": {},
   "source": [
    "def cantidad_filmaciones_mes( Mes ): Se ingresa un mes en idioma Español. Debe devolver la cantidad de películas que fueron estrenadas en el mes consultado en la totalidad del dataset.\n",
    "        Ejemplo de retorno: X cantidad de películas fueron estrenadas en el mes de X"
   ]
  },
  {
   "cell_type": "code",
   "execution_count": 69,
   "metadata": {},
   "outputs": [
    {
     "data": {
      "text/plain": [
       "array(['en', 'fr', 'zh', 'it', 'fa', 'nl', 'de', 'cn', 'ar', 'es', 'ru',\n",
       "       'sv', 'ja', 'ko', 'sr', 'bn', 'he', 'pt', 'wo', 'ro', 'hu', 'cy',\n",
       "       'vi', 'cs', 'da', 'no', 'nb', 'pl', 'el', 'sh', 'xx', 'mk', 'bo',\n",
       "       'ca', 'fi', 'th', 'sk', 'bs', 'hi', 'tr', 'is', 'ps', 'ab', 'eo',\n",
       "       'ka', 'mn', 'bm', 'zu', 'uk', 'af', 'la', 'et', 'ku', 'fy', 'lv',\n",
       "       'ta', 'sl', 'tl', 'ur', 'rw', 'id', 'bg', 'mr', 'lt', 'kk', 'ms',\n",
       "       'sq', None, 'qu', 'te', 'am', 'jv', 'tg', 'ml', 'hr', 'lo', 'ay',\n",
       "       'kn', 'eu', 'ne', 'pa', 'ky', 'gl', 'uz', 'sm', 'mt', 'hy', 'iu',\n",
       "       'lb', 'si'], dtype=object)"
      ]
     },
     "execution_count": 69,
     "metadata": {},
     "output_type": "execute_result"
    }
   ],
   "source": [
    "df_movies['original_language'].unique()"
   ]
  },
  {
   "cell_type": "code",
   "execution_count": 70,
   "metadata": {},
   "outputs": [],
   "source": [
    "\n",
    "def cantidad_filmaciones_mes1( Mes ):\n",
    "    meses = {\n",
    "        1: \"enero\", 2: \"febrero\", 3: \"marzo\", 4: \"abril\", 5: \"mayo\",\n",
    "        6: \"junio\", 7: \"julio\", 8: \"agosto\", 9: \"septiembre\", \n",
    "        10: \"octubre\", 11: \"noviembre\", 12: \"diciembre\"\n",
    "    }\n",
    "    peliculas_espanol = df_movies[df_movies['original_language'] == 'es']\n",
    "    peliculas_mes = peliculas_espanol[peliculas_espanol['release_date'].dt.month == Mes]\n",
    "    print(f\"{len(peliculas_mes)} películas fueron estrenadas en el mes de {meses[Mes]}\")\n",
    "\n"
   ]
  },
  {
   "cell_type": "code",
   "execution_count": 71,
   "metadata": {},
   "outputs": [
    {
     "name": "stdout",
     "output_type": "stream",
     "text": [
      "97 películas fueron estrenadas en el mes de abril\n"
     ]
    }
   ],
   "source": [
    "cantidad_filmaciones_mes1(4)"
   ]
  },
  {
   "cell_type": "code",
   "execution_count": 72,
   "metadata": {},
   "outputs": [],
   "source": [
    "#Función que calcula la cantidad de peliculas estrenadas en un mes determinado\n",
    "def cantidad_filmaciones_mes( Mes ):\n",
    "    Mes= Mes.lower() #Convierte el valor ingresado a minúsculas\n",
    "    #asignamos un valor a cada mes en español que entre como parámetro\n",
    "    meses = {\n",
    "        \"enero\": 1, \"febrero\": 2, \"marzo\": 3, \"abril\":4, \"mayo\": 5,\n",
    "        \"junio\":6, \"julio\":7, \"agosto\":8, \"septiembre\":9, \n",
    "         \"octubre\":10, \"noviembre\":11, \"diciembre\":12\n",
    "    }\n",
    "    if(Mes not in meses):#Si el mes seleccionado no está entre las opciones\n",
    "        print(\"Ingrese un mes en español\")\n",
    "        return\n",
    "    peliculas_mes = (df_movies[df_movies['release_date'].dt.month==meses[Mes]])\n",
    "    print(f\"{len(peliculas_mes)} películas fueron estrenadas en el mes de {Mes}\")"
   ]
  },
  {
   "cell_type": "code",
   "execution_count": 73,
   "metadata": {},
   "outputs": [
    {
     "name": "stdout",
     "output_type": "stream",
     "text": [
      "5913 películas fueron estrenadas en el mes de enero\n"
     ]
    }
   ],
   "source": [
    "cantidad_filmaciones_mes('ENERO')"
   ]
  },
  {
   "cell_type": "code",
   "execution_count": 74,
   "metadata": {},
   "outputs": [
    {
     "name": "stdout",
     "output_type": "stream",
     "text": [
      "5913\n"
     ]
    }
   ],
   "source": [
    "print(len(df_movies[df_movies['release_date'].dt.month==1]))"
   ]
  },
  {
   "cell_type": "markdown",
   "metadata": {},
   "source": [
    "def cantidad_filmaciones_dia( Dia ): Se ingresa un día en idioma Español. Debe devolver la cantidad de películas que fueron estrenadas en día consultado en la totalidad del dataset.\n",
    "            Ejemplo de retorno: X cantidad de películas fueron estrenadas en los días X"
   ]
  },
  {
   "cell_type": "code",
   "execution_count": 75,
   "metadata": {},
   "outputs": [],
   "source": [
    "#Función que calcula la cantidad de peliculas estrenadas en un día determinado\n",
    "def cantidad_filmaciones_dia( Dia ):\n",
    "    Dia= Dia.lower() #Convierte el valor ingresado a minúsculas#Convierte el valor ingresado a minúsculas\n",
    "    #asignamos un valor a cada día en español que entre como parámetro\n",
    "    Dias = {\n",
    "        \"lunes\": \"Monday\", \"martes\": \"Tuesday\", \"miercoles\": \"Wednesday\", \"jueves\":\"Thursday\", \"viernes\": \"Friday\",\n",
    "        \"sabado\":\"Saturday\", \"domingo\":\"Sunday\"\n",
    "    }\n",
    "    if(Dia not in Dias):#Si el día seleccionado no está entre las opciones\n",
    "        print(\"Ingrese un día en español\")\n",
    "        return\n",
    "    peliculas_dia = (df_movies[df_movies['release_date'].dt.day_name()==Dias[Dia]])\n",
    "    print(f\"{len(peliculas_dia)} películas fueron estrenadas en el mes de {Dia}\")"
   ]
  },
  {
   "cell_type": "code",
   "execution_count": 76,
   "metadata": {},
   "outputs": [
    {
     "name": "stdout",
     "output_type": "stream",
     "text": [
      "3503 películas fueron estrenadas en el mes de lunes\n"
     ]
    }
   ],
   "source": [
    "#Probando la función\n",
    "cantidad_filmaciones_dia(\"lunes\")"
   ]
  },
  {
   "cell_type": "code",
   "execution_count": 77,
   "metadata": {},
   "outputs": [
    {
     "data": {
      "text/plain": [
       "3503"
      ]
     },
     "execution_count": 77,
     "metadata": {},
     "output_type": "execute_result"
    }
   ],
   "source": [
    "#Prueba\n",
    "len(df_movies[df_movies['release_date'].dt.day_name()=='Monday'])"
   ]
  },
  {
   "cell_type": "markdown",
   "metadata": {},
   "source": [
    "def score_titulo( titulo_de_la_filmación ): Se ingresa el título de una filmación esperando como respuesta el título, el año de estreno y el score."
   ]
  },
  {
   "cell_type": "code",
   "execution_count": 78,
   "metadata": {},
   "outputs": [
    {
     "name": "stdout",
     "output_type": "stream",
     "text": [
      " La película Sense and Sensibility fue estrenada en el año 1995 con un score/popularidad de 0.67 \n",
      "None\n"
     ]
    }
   ],
   "source": [
    "def score_titulo(titulo_de_la_filmación):\n",
    "    titulo_de_la_filmación = titulo_de_la_filmación.lower()\n",
    "    # Convertir los títulos del DataFrame a minúsculas para la comparación\n",
    "    df_movies['title_lower'] = df_movies['title'].str.lower()\n",
    "    # Filtrar las filas donde el título coincida con el título de la filmación\n",
    "    coincidencias = df_movies[df_movies['title_lower'] == titulo_de_la_filmación]\n",
    "\n",
    "    # Si hay coincidencias, devuelve el título, el año de lanzamiento, y la puntuación\n",
    "    if not coincidencias.empty:\n",
    "        titulo = coincidencias['title'].values[0]\n",
    "        año = int(coincidencias['release_year'].values[0])\n",
    "        puntuacion = float(coincidencias['vote_average'].values[0] / coincidencias['popularity'].values[0])\n",
    "        # Aplicamos la función round para redondear solo a 2 decimales\n",
    "        puntuacion = round(puntuacion, 2)\n",
    "        #return titulo, año, puntuacion\n",
    "        return print(f\" La película {titulo} fue estrenada en el año {año} con un score/popularidad de {puntuacion} \")\n",
    "    else:\n",
    "        return \"No se encontró la filmación\", None, None\n",
    "\n",
    "# Ejemplo de uso\n",
    "resultado = score_titulo(\"Sense and Sensibility\")\n",
    "print(resultado)\n"
   ]
  },
  {
   "cell_type": "code",
   "execution_count": 79,
   "metadata": {},
   "outputs": [
    {
     "name": "stdout",
     "output_type": "stream",
     "text": [
      " La película Casino fue estrenada en el año 1995 con un score/popularidad de 0.77 \n"
     ]
    }
   ],
   "source": [
    "score_titulo(\"Casino\")"
   ]
  },
  {
   "cell_type": "code",
   "execution_count": 80,
   "metadata": {},
   "outputs": [
    {
     "data": {
      "text/plain": [
       "Index(['belongs_to_collection', 'budget', 'genres', 'id', 'original_language',\n",
       "       'overview', 'popularity', 'production_companies',\n",
       "       'production_countries', 'release_date', 'revenue', 'runtime',\n",
       "       'spoken_languages', 'status', 'tagline', 'title', 'vote_average',\n",
       "       'vote_count', 'release_year', 'return', 'title_lower'],\n",
       "      dtype='object')"
      ]
     },
     "execution_count": 80,
     "metadata": {},
     "output_type": "execute_result"
    }
   ],
   "source": [
    "df_movies.columns"
   ]
  },
  {
   "cell_type": "markdown",
   "metadata": {},
   "source": [
    "def votos_titulo( titulo_de_la_filmación ): Se ingresa el título de una filmación esperando como respuesta el título, la cantidad de votos y el valor promedio de las votaciones. La misma variable deberá de contar con al menos 2000 valoraciones, caso contrario, debemos contar con un mensaje avisando que no cumple esta condición y que por ende, no se devuelve ningun valor.\n",
    "                    Ejemplo de retorno: La película X fue estrenada en el año X. La misma cuenta con un total de X valoraciones, con un promedio de X"
   ]
  },
  {
   "cell_type": "code",
   "execution_count": 81,
   "metadata": {},
   "outputs": [],
   "source": [
    "def votos_titulo(titulo_de_la_filmación):\n",
    "    titulo_de_la_filmación = titulo_de_la_filmación.lower()\n",
    "    # Convertir los títulos del DataFrame a minúsculas para la comparación\n",
    "    df_movies['title_lower'] = df_movies['title'].str.lower()\n",
    "    # Filtrar las filas donde el título coincida con el título de la filmación\n",
    "    coincidencias = df_movies[df_movies['title_lower'] == titulo_de_la_filmación]\n",
    "    \n",
    "    if not coincidencias.empty:\n",
    "        votos = coincidencias.iloc[0]['vote_count']\n",
    "        promedio = coincidencias.iloc[0]['vote_average']\n",
    "        if votos >= 2000:\n",
    "            return f\"La película {coincidencias.iloc[0]['title']} fue estrenada en el año {int(coincidencias.iloc[0]['release_year'])}. La misma cuenta con un total de {votos} valoraciones, con un promedio de {promedio}\"\n",
    "    return \"No se encontraron coincidencias o la película no tiene suficientes valoraciones.\"\n"
   ]
  },
  {
   "cell_type": "code",
   "execution_count": 82,
   "metadata": {},
   "outputs": [
    {
     "data": {
      "text/plain": [
       "'La película Se7en fue estrenada en el año 1995. La misma cuenta con un total de 5915 valoraciones, con un promedio de 8.1'"
      ]
     },
     "execution_count": 82,
     "metadata": {},
     "output_type": "execute_result"
    }
   ],
   "source": [
    "votos_titulo('Se7en')"
   ]
  },
  {
   "cell_type": "code",
   "execution_count": 83,
   "metadata": {},
   "outputs": [
    {
     "data": {
      "text/plain": [
       "Index(['Cast', 'Crew', 'id'], dtype='object')"
      ]
     },
     "execution_count": 83,
     "metadata": {},
     "output_type": "execute_result"
    }
   ],
   "source": [
    "df_credits.columns"
   ]
  },
  {
   "cell_type": "markdown",
   "metadata": {},
   "source": [
    "def get_actor( nombre_actor ): Se ingresa el nombre de un actor que se encuentre dentro de un dataset debiendo devolver el éxito del mismo medido a través del retorno. Además, la cantidad de películas que en las que ha participado y el promedio de retorno. La definición no deberá considerar directores.\n",
    "                    Ejemplo de retorno: El actor X ha participado de X cantidad de filmaciones, el mismo ha conseguido un retorno de X con un promedio de X por filmación"
   ]
  },
  {
   "cell_type": "code",
   "execution_count": 84,
   "metadata": {},
   "outputs": [
    {
     "name": "stdout",
     "output_type": "stream",
     "text": [
      "Index(['belongs_to_collection', 'budget', 'genres', 'id', 'original_language',\n",
      "       'overview', 'popularity', 'production_companies',\n",
      "       'production_countries', 'release_date', 'revenue', 'runtime',\n",
      "       'spoken_languages', 'status', 'tagline', 'title', 'vote_average',\n",
      "       'vote_count', 'release_year', 'return', 'title_lower'],\n",
      "      dtype='object')\n"
     ]
    }
   ],
   "source": [
    "print(df_movies.columns)\n"
   ]
  },
  {
   "cell_type": "code",
   "execution_count": 85,
   "metadata": {},
   "outputs": [
    {
     "name": "stdout",
     "output_type": "stream",
     "text": [
      "El actor johnny depp ha participado de 69 cantidad de filmaciones, el mismo ha conseguido un retorno de 139.67 con un promedio de 11.21 por filmación\n",
      "El actor alfred molina ha participado de 66 cantidad de filmaciones, el mismo ha conseguido un retorno de 71.81 con un promedio de 3.98 por filmación\n"
     ]
    }
   ],
   "source": [
    "def get_actor(nombre_actor):\n",
    "    nombre_actor = nombre_actor.lower()\n",
    "    \n",
    "    # Convertir los nombres del DataFrame a minúsculas para la comparación\n",
    "    df_credits_cast['cast_name'] = df_credits_cast['cast_name'].str.lower()\n",
    "    \n",
    "    # Filtrar las filas donde el nombre coincida con el nombre_actor\n",
    "    coincidencias = df_credits_cast[df_credits_cast['cast_name'] == nombre_actor]\n",
    "    \n",
    "    # Verificar que haya coincidencias\n",
    "    if coincidencias.empty:\n",
    "        return nombre_actor, 0, 0.0, 0.0\n",
    "        \n",
    "    # Obtener los IDs únicos y contar la cantidad de películas\n",
    "    cant_films = len(coincidencias['id'].unique())\n",
    "    \n",
    "    # Verificar que la columna 'return' exista\n",
    "    if 'return' not in df_movies.columns:\n",
    "        return nombre_actor, cant_films, 0.0, 0.0\n",
    "    \n",
    "    # Seleccionar las películas del actor\n",
    "    actor_movies = df_movies[df_movies['id'].isin(coincidencias['id'])]\n",
    "    \n",
    "    # Asegurarse de que 'return' no contiene valores infinitos o nulos\n",
    "    actor_movies = actor_movies.replace([np.inf, -np.inf], np.nan).dropna(subset=['return'])\n",
    "    \n",
    "      \n",
    "    # Calcular el retorno total y el promedio de retorno\n",
    "    total_return = float(round(actor_movies['return'].sum(), 2))\n",
    "    avg_return = float(round(actor_movies['popularity'].sum() / cant_films if cant_films > 0 else 0.0, 2))\n",
    "    \n",
    "    return f\"El actor {nombre_actor} ha participado de {cant_films} cantidad de filmaciones, el mismo ha conseguido un retorno de {total_return} con un promedio de {avg_return} por filmación\"\n",
    "    \n",
    "# Prueba la función\n",
    "print(get_actor('Johnny Depp'))\n",
    "print(get_actor('Alfred Molina'))\n"
   ]
  },
  {
   "cell_type": "code",
   "execution_count": 86,
   "metadata": {},
   "outputs": [
    {
     "name": "stdout",
     "output_type": "stream",
     "text": [
      "{'actor': 'johnny depp', 'cantidad_filmes': 69, 'total_return': inf, 'avg_return': inf}\n"
     ]
    },
    {
     "name": "stderr",
     "output_type": "stream",
     "text": [
      "C:\\Users\\diani\\AppData\\Local\\Temp\\ipykernel_26704\\3297257240.py:14: FutureWarning: A value is trying to be set on a copy of a DataFrame or Series through chained assignment using an inplace method.\n",
      "The behavior will change in pandas 3.0. This inplace method will never work because the intermediate object on which we are setting values always behaves as a copy.\n",
      "\n",
      "For example, when doing 'df[col].method(value, inplace=True)', try using 'df.method({col: value}, inplace=True)' or df[col] = df[col].method(value) instead, to perform the operation inplace on the original object.\n",
      "\n",
      "\n",
      "  peliculas['return'].fillna(0, inplace=True)\n",
      "C:\\Users\\diani\\AppData\\Local\\Temp\\ipykernel_26704\\3297257240.py:14: SettingWithCopyWarning: \n",
      "A value is trying to be set on a copy of a slice from a DataFrame\n",
      "\n",
      "See the caveats in the documentation: https://pandas.pydata.org/pandas-docs/stable/user_guide/indexing.html#returning-a-view-versus-a-copy\n",
      "  peliculas['return'].fillna(0, inplace=True)\n"
     ]
    }
   ],
   "source": [
    "\n",
    "def get_actor(nombre_actor: str):\n",
    "    nombre_actor = nombre_actor.lower()\n",
    "    \n",
    "    # Filtrar las filas donde el trabajo sea \"Actor\" y el nombre sea el especificado\n",
    "    df_actor = df_credits[df_credits['Cast'].apply(lambda cast: any(member['name'].lower() == nombre_actor for member in cast))]\n",
    "    \n",
    "    # Obtener los IDs únicos y contar la cantidad de películas\n",
    "    cant_films = len(df_actor['id'].unique())\n",
    "    \n",
    "    # Filtrar las películas en df_movies cuyo 'id' está en df_actor\n",
    "    peliculas = df_movies[df_movies['id'].isin(df_actor['id'])]\n",
    "    \n",
    "    # Manejar los valores NaN en la columna 'return' antes de sumar\n",
    "    peliculas['return'].fillna(0, inplace=True)\n",
    "    \n",
    "    # Calcular el retorno total y el promedio de retorno por filmación\n",
    "    total_return = float(round(peliculas['return'].sum(), 2))\n",
    "    avg_return_per_film = total_return / cant_films if cant_films > 0 else 0.0\n",
    "    \n",
    "    return {\n",
    "        \"actor\": nombre_actor,\n",
    "        \"cantidad_filmes\": cant_films,\n",
    "        \"total_return\": total_return,\n",
    "        \"avg_return\": avg_return_per_film\n",
    "    }\n",
    "\n",
    "\n",
    "print(get_actor('Johnny Depp'))\n"
   ]
  },
  {
   "cell_type": "code",
   "execution_count": 87,
   "metadata": {},
   "outputs": [
    {
     "name": "stdout",
     "output_type": "stream",
     "text": [
      "[  2086   1909    522   1587    922    792    377   4104   9366   1878\n",
      "  11284    162  51679   2900   2668    622    392   5001   4133  29572\n",
      "    768  21189     22   1428   1586  11044    866   9768   9956    118\n",
      "  14653  17824  61675   3933   7548  53367  17700     58    285  25740\n",
      "  13885  18893  13003  11322   8054  12155  37659  37710  44896   1865\n",
      "  71880  23514  64688  62213  57201 200063 157353 140456 246403 214096\n",
      "  32624 224141 166426 210860 259316 261023 290825 241259 382079]\n"
     ]
    }
   ],
   "source": [
    "# Filtrar las filas donde el nombre del cast sea 'Johnny Depp'\n",
    "conteo = df_credits_cast[df_credits_cast['cast_name'] == 'johnny depp']['id'].unique()\n",
    "print(conteo)\n",
    "\n"
   ]
  },
  {
   "cell_type": "markdown",
   "metadata": {},
   "source": [
    "def get_director( nombre_director ): Se ingresa el nombre de un director que se encuentre dentro de un dataset debiendo devolver el éxito del mismo medido a través del retorno. Además, deberá devolver el nombre de cada película con la fecha de lanzamiento, retorno individual, costo y ganancia de la misma."
   ]
  },
  {
   "cell_type": "code",
   "execution_count": 88,
   "metadata": {},
   "outputs": [
    {
     "data": {
      "text/plain": [
       "Index(['belongs_to_collection', 'budget', 'genres', 'id', 'original_language',\n",
       "       'overview', 'popularity', 'production_companies',\n",
       "       'production_countries', 'release_date', 'revenue', 'runtime',\n",
       "       'spoken_languages', 'status', 'tagline', 'title', 'vote_average',\n",
       "       'vote_count', 'release_year', 'return', 'title_lower'],\n",
       "      dtype='object')"
      ]
     },
     "execution_count": 88,
     "metadata": {},
     "output_type": "execute_result"
    }
   ],
   "source": [
    "df_movies.columns"
   ]
  },
  {
   "cell_type": "code",
   "execution_count": 89,
   "metadata": {},
   "outputs": [
    {
     "name": "stdout",
     "output_type": "stream",
     "text": [
      "El director Gary Trousdale tiene un nivel de retorno de 17.65\n",
      "          id                                         title  release_year  \\\n",
      "588    10020                          Beauty and the Beast        1991.0   \n",
      "763    10545                   The Hunchback of Notre Dame        1996.0   \n",
      "4238   10865                     Atlantis: The Lost Empire        2001.0   \n",
      "13152  13394                               Shrek the Halls        2007.0   \n",
      "16099  48466                              Scared Shrekless        2010.0   \n",
      "25025  10258  The Madagascar Penguins in a Christmas Caper        2005.0   \n",
      "\n",
      "         revenue     budget     return  \n",
      "588    377350553   25000000  15.094022  \n",
      "763    100138851  100000000   1.001389  \n",
      "4238   186053725  120000000   1.550448  \n",
      "13152          0   60000000   0.000000  \n",
      "16099          0          0   0.000000  \n",
      "25025          0          0   0.000000  \n"
     ]
    },
    {
     "name": "stderr",
     "output_type": "stream",
     "text": [
      "C:\\Users\\diani\\AppData\\Local\\Temp\\ipykernel_26704\\2670479068.py:10: SettingWithCopyWarning: \n",
      "A value is trying to be set on a copy of a slice from a DataFrame.\n",
      "Try using .loc[row_indexer,col_indexer] = value instead\n",
      "\n",
      "See the caveats in the documentation: https://pandas.pydata.org/pandas-docs/stable/user_guide/indexing.html#returning-a-view-versus-a-copy\n",
      "  df_directors['director_names'] = directors\n",
      "C:\\Users\\diani\\AppData\\Local\\Temp\\ipykernel_26704\\2670479068.py:16: FutureWarning: A value is trying to be set on a copy of a DataFrame or Series through chained assignment using an inplace method.\n",
      "The behavior will change in pandas 3.0. This inplace method will never work because the intermediate object on which we are setting values always behaves as a copy.\n",
      "\n",
      "For example, when doing 'df[col].method(value, inplace=True)', try using 'df.method({col: value}, inplace=True)' or df[col] = df[col].method(value) instead, to perform the operation inplace on the original object.\n",
      "\n",
      "\n",
      "  peliculas['return'].fillna(0, inplace=True)\n",
      "C:\\Users\\diani\\AppData\\Local\\Temp\\ipykernel_26704\\2670479068.py:16: SettingWithCopyWarning: \n",
      "A value is trying to be set on a copy of a slice from a DataFrame\n",
      "\n",
      "See the caveats in the documentation: https://pandas.pydata.org/pandas-docs/stable/user_guide/indexing.html#returning-a-view-versus-a-copy\n",
      "  peliculas['return'].fillna(0, inplace=True)\n"
     ]
    }
   ],
   "source": [
    "def get_director( nombre_director ):\n",
    "   \n",
    "    # Filtrar las filas donde el trabajo sea \"Director\" y el nombre sea \"nombre_director\"\n",
    "    df_directors = df_credits[df_credits['Crew'].apply(lambda crew: any(member['job'] == 'Director' and member['name'] == nombre_director for member in crew))]\n",
    "\n",
    "    # Extraer los nombres de los directores\n",
    "    directors = df_directors['Crew'].apply(lambda crew: [member['name'] for member in crew if member['job'] == 'Director' and member['name'] == nombre_director])\n",
    "\n",
    "    # Añadir los nombres de los directores al DataFrame original\n",
    "    df_directors['director_names'] = directors\n",
    "\n",
    "    #comparación peliculas\n",
    "    peliculas = df_movies[df_movies['id'].isin(df_directors['id'])]\n",
    "\n",
    "    # Manejar los valores NaN en la columna 'return' antes de sumar\n",
    "    peliculas['return'].fillna(0, inplace=True)\n",
    "   \n",
    "    print(f\"El director {nombre_director} tiene un nivel de retorno de {round(sum(peliculas['return']),2)}\")\n",
    "    print(peliculas[['id','title', 'release_year','revenue', 'budget','return']])\n",
    "\n",
    "get_director('Gary Trousdale')"
   ]
  },
  {
   "cell_type": "code",
   "execution_count": 91,
   "metadata": {},
   "outputs": [
    {
     "name": "stdout",
     "output_type": "stream",
     "text": [
      "<class 'str'>\n"
     ]
    }
   ],
   "source": [
    "df_credits_pkl = pd.read_pickle(r'C:\\HENRY\\PROYECTOS HENRY 11\\Primer Proyecto Individual\\Datasets\\newCredits.pkl')\n",
    "df_credits_pkl.head(5)\n",
    "df_credits_pkl['directors']=str(df_credits_pkl['directors'])\n",
    "print(type(df_credits_pkl['directors'].loc[1]))"
   ]
  },
  {
   "cell_type": "code",
   "execution_count": 92,
   "metadata": {},
   "outputs": [
    {
     "name": "stdout",
     "output_type": "stream",
     "text": [
      "('gary trousdale', 0, 0.0, 0.0)\n"
     ]
    }
   ],
   "source": [
    "def get_director(nombre_director):\n",
    "    nombre_director = nombre_director.lower()\n",
    "\n",
    "    # Asegurarse de que los valores en la columna 'directors' son cadenas\n",
    "    df_credits_pkl['directors'] = df_credits_pkl['directors'].apply(lambda x: ', '.join(x).lower() if isinstance(x, list) else x.lower())\n",
    "\n",
    "    # Filtrar las filas donde el nombre del director coincide con nombre_director\n",
    "    coincidencias = df_credits_pkl[df_credits_pkl['directors'].str.contains(nombre_director)]\n",
    "\n",
    "    # Verificar que haya coincidencias\n",
    "    if coincidencias.empty:\n",
    "        return nombre_director, 0, 0.0, 0.0\n",
    "\n",
    "    # Comparación de películas\n",
    "    peliculas = df_movies[df_movies['id'].isin(coincidencias['id'])]\n",
    "\n",
    "    # Manejar los valores NaN en la columna 'return' antes de sumar\n",
    "    peliculas['return'].fillna(0, inplace=True)\n",
    "\n",
    "    # Resetear el índice del DataFrame 'peliculas'\n",
    "    peliculas.reset_index(drop=True, inplace=True)\n",
    "    # Obtener el nivel de retorno\n",
    "    nivel_retorno = round(sum(peliculas['return']), 2)\n",
    "\n",
    "    return f\"El director {nombre_director} tiene un nivel de retorno de {nivel_retorno}\", peliculas[['title', 'release_year', 'revenue', 'budget', 'return']]\n",
    "\n",
    "\n",
    "# Prueba la función\n",
    "print(get_director('Gary Trousdale'))\n"
   ]
  },
  {
   "cell_type": "code",
   "execution_count": 93,
   "metadata": {},
   "outputs": [
    {
     "name": "stdout",
     "output_type": "stream",
     "text": [
      "          id    director_names\n",
      "588    10020  [Gary Trousdale]\n",
      "763    10545  [Gary Trousdale]\n",
      "4238   10865  [Gary Trousdale]\n",
      "13152  13394  [Gary Trousdale]\n",
      "16099  48466  [Gary Trousdale]\n",
      "25025  10258  [Gary Trousdale]\n"
     ]
    },
    {
     "name": "stderr",
     "output_type": "stream",
     "text": [
      "C:\\Users\\diani\\AppData\\Local\\Temp\\ipykernel_26704\\3560491521.py:8: SettingWithCopyWarning: \n",
      "A value is trying to be set on a copy of a slice from a DataFrame.\n",
      "Try using .loc[row_indexer,col_indexer] = value instead\n",
      "\n",
      "See the caveats in the documentation: https://pandas.pydata.org/pandas-docs/stable/user_guide/indexing.html#returning-a-view-versus-a-copy\n",
      "  df_directors['director_names'] = directors\n"
     ]
    }
   ],
   "source": [
    "# Filtrar las filas donde el trabajo sea \"Director\" y el nombre sea \"Gary Trousdale\"\n",
    "df_directors = df_credits[df_credits['Crew'].apply(lambda crew: any(member['job'] == 'Director' and member['name'] == 'Gary Trousdale' for member in crew))]\n",
    "\n",
    "# Extraer los nombres de los directores\n",
    "directors = df_directors['Crew'].apply(lambda crew: [member['name'] for member in crew if member['job'] == 'Director' and member['name'] == 'Gary Trousdale'])\n",
    "\n",
    "# Añadir los nombres de los directores al DataFrame original\n",
    "df_directors['director_names'] = directors\n",
    "\n",
    "# Mostrar los IDs de las películas y los nombres de los directores\n",
    "print(df_directors[['id', 'director_names']])\n",
    "\n"
   ]
  },
  {
   "cell_type": "markdown",
   "metadata": {},
   "source": [
    "Modelo: Éste consiste en recomendar películas a los usuarios basándose en películas similares, por lo que se debe encontrar la similitud de puntuación entre esa película y el resto de películas, se ordenarán según el score de similaridad y devolverá una lista de Python con 5 valores, cada uno siendo el string del nombre de las películas con mayor puntaje, en orden descendente."
   ]
  },
  {
   "cell_type": "code",
   "execution_count": 94,
   "metadata": {},
   "outputs": [
    {
     "name": "stdout",
     "output_type": "stream",
     "text": [
      "Películas similares a 'Open Season':\n",
      " ['Open Season', 'Open Season', 'Open Season 2', 'Open Season: Scared Silly', 'Open House']\n"
     ]
    }
   ],
   "source": [
    "# Similitud del coseno usando titulo\n",
    "\n",
    "df_titulos = pd.DataFrame(df_movies, columns=[\"title\"])\n",
    "df_titulos.head(2)\n",
    "vectorizer = TfidfVectorizer()\n",
    "titulos_transform = vectorizer.fit_transform(df_titulos[\"title\"])\n",
    "\n",
    "def recomendacion( titulo, titulos_transform, df_titulos, top_n=5 ): \n",
    "# Encontrar el índice de la película seleccionada\n",
    "    idx = df_titulos[df_titulos[\"title\"] == titulo].index[0]\n",
    "# Calcular la similitud del coseno entre la película seleccionada y el resto\n",
    "    cosine_similarities = cosine_similarity(titulos_transform[idx], titulos_transform).flatten()\n",
    "\n",
    "# Obtener los índices de las películas más similares\n",
    "    similar_indices = cosine_similarities.argsort()[-top_n-1:-1][::-1]\n",
    "# Recuperar los títulos de las películas similares\n",
    "    similar_movies = df_movies.iloc[similar_indices]\n",
    "\n",
    "    return similar_movies[\"title\"].tolist()\n",
    "\n",
    "movie_to_recommend = \"Open Season\"\n",
    "recommendations = recomendacion(movie_to_recommend, titulos_transform, df_titulos)\n",
    "print(f\"Películas similares a '{movie_to_recommend}':\\n\", recommendations)\n"
   ]
  },
  {
   "cell_type": "code",
   "execution_count": 95,
   "metadata": {},
   "outputs": [
    {
     "name": "stdout",
     "output_type": "stream",
     "text": [
      "                                           title  similarity_score\n",
      "0       From Dusk Till Dawn 2: Texas Blood Money          0.789116\n",
      "1  From Dusk Till Dawn 3: The Hangman's Daughter          0.739189\n",
      "2                                           Dusk          0.615519\n",
      "3                             Lights in the Dusk          0.491312\n",
      "4                                   Another Dawn          0.454412\n"
     ]
    }
   ],
   "source": [
    "# Similitud del coseno usando titulo y genero\n",
    "\n",
    "def recommend_movies(movie_title, df= df_movies, title_col='title', genre_col='genres', num_recommendations=5):\n",
    "    # Unir título y géneros en un texto\n",
    "    def process_genres(genres):\n",
    "        if isinstance(genres, str):  # Si es una cadena, intenta convertirla a lista de diccionarios\n",
    "            try:\n",
    "                genres = json.loads(genres.replace(\"'\", \"\\\"\"))\n",
    "            except json.JSONDecodeError:\n",
    "                return \"\"\n",
    "        # Une los nombres de los géneros si es una lista de diccionarios\n",
    "        return ' '.join([genre['name'] for genre in genres if isinstance(genre, dict) and 'name' in genre])\n",
    "\n",
    "    # Aplicar la función de procesamiento a la columna 'genres'\n",
    "    df['combined_features'] = df[title_col] + ' ' + df[genre_col].apply(process_genres)\n",
    "\n",
    "    # Vectorizar las características combinadas\n",
    "    vectorizer = TfidfVectorizer(stop_words='english')\n",
    "    combined_matrix = vectorizer.fit_transform(df['combined_features'])\n",
    "\n",
    "    # Encontrar el índice de la película objetivo\n",
    "    target_index = df[df[title_col] == movie_title].index[0]\n",
    "\n",
    "    # Calcular la similitud del coseno\n",
    "    cosine_similarities = cosine_similarity(combined_matrix[target_index], combined_matrix).flatten()\n",
    "\n",
    "    # Obtener índices de películas similares en orden descendente\n",
    "    similar_indices = cosine_similarities.argsort()[::-1][1:num_recommendations + 1]\n",
    "\n",
    "    # Crear un DataFrame con las recomendaciones y los puntajes de similitud\n",
    "    recommendations = pd.DataFrame({\n",
    "        'title': df.iloc[similar_indices][title_col].values,\n",
    "        'similarity_score': cosine_similarities[similar_indices]\n",
    "    }).sort_values(by='similarity_score', ascending=False)\n",
    "\n",
    "    return recommendations\n",
    "\n",
    "\n",
    "recomendaciones = recommend_movies('From Dusk Till Dawn')\n",
    "print(recomendaciones)\n"
   ]
  },
  {
   "cell_type": "markdown",
   "metadata": {},
   "source": [
    "REDUCCIÓN DATA CREDITS: De Cast eliminamos \"credit_id\" y \"profile_path\" y de Crew conservamos unicamente el director de la pelicula. "
   ]
  },
  {
   "cell_type": "code",
   "execution_count": 96,
   "metadata": {},
   "outputs": [],
   "source": [
    "df_creditsP = pd.read_pickle(r'C:\\HENRY\\PROYECTOS HENRY 11\\df_credits.pkl')"
   ]
  },
  {
   "cell_type": "code",
   "execution_count": 97,
   "metadata": {},
   "outputs": [
    {
     "data": {
      "text/html": [
       "<div>\n",
       "<style scoped>\n",
       "    .dataframe tbody tr th:only-of-type {\n",
       "        vertical-align: middle;\n",
       "    }\n",
       "\n",
       "    .dataframe tbody tr th {\n",
       "        vertical-align: top;\n",
       "    }\n",
       "\n",
       "    .dataframe thead th {\n",
       "        text-align: right;\n",
       "    }\n",
       "</style>\n",
       "<table border=\"1\" class=\"dataframe\">\n",
       "  <thead>\n",
       "    <tr style=\"text-align: right;\">\n",
       "      <th></th>\n",
       "      <th>id</th>\n",
       "      <th>Cast</th>\n",
       "      <th>directors</th>\n",
       "    </tr>\n",
       "  </thead>\n",
       "  <tbody>\n",
       "    <tr>\n",
       "      <th>0</th>\n",
       "      <td>862</td>\n",
       "      <td>[{'cast_id': 14, 'character': 'Woody (voice)',...</td>\n",
       "      <td>[John Lasseter]</td>\n",
       "    </tr>\n",
       "    <tr>\n",
       "      <th>1</th>\n",
       "      <td>8844</td>\n",
       "      <td>[{'cast_id': 1, 'character': 'Alan Parrish', '...</td>\n",
       "      <td>[Joe Johnston]</td>\n",
       "    </tr>\n",
       "    <tr>\n",
       "      <th>2</th>\n",
       "      <td>15602</td>\n",
       "      <td>[{'cast_id': 2, 'character': 'Max Goldman', 'c...</td>\n",
       "      <td>[Howard Deutch]</td>\n",
       "    </tr>\n",
       "  </tbody>\n",
       "</table>\n",
       "</div>"
      ],
      "text/plain": [
       "      id                                               Cast        directors\n",
       "0    862  [{'cast_id': 14, 'character': 'Woody (voice)',...  [John Lasseter]\n",
       "1   8844  [{'cast_id': 1, 'character': 'Alan Parrish', '...   [Joe Johnston]\n",
       "2  15602  [{'cast_id': 2, 'character': 'Max Goldman', 'c...  [Howard Deutch]"
      ]
     },
     "execution_count": 97,
     "metadata": {},
     "output_type": "execute_result"
    }
   ],
   "source": [
    "def get_directors(crew):   \n",
    "    if isinstance(crew, list):\n",
    "        return [member['name'] for member in crew if 'job' in member and member['job'] == 'Director' and 'name' in member]\n",
    "    return []\n",
    "\n",
    "# Crear el nuevo DataFrame\n",
    "newCredits = pd.DataFrame({\n",
    "    'id': df_creditsP['id'],\n",
    "    'Cast': df_creditsP['Cast'],\n",
    "    'directors': df_creditsP['Crew'].apply(get_directors)\n",
    "})\n",
    "\n",
    "# Mostrar las primeras filas del nuevo DataFrame\n",
    "newCredits.head(3)\n"
   ]
  },
  {
   "cell_type": "code",
   "execution_count": 98,
   "metadata": {},
   "outputs": [
    {
     "data": {
      "text/html": [
       "<div>\n",
       "<style scoped>\n",
       "    .dataframe tbody tr th:only-of-type {\n",
       "        vertical-align: middle;\n",
       "    }\n",
       "\n",
       "    .dataframe tbody tr th {\n",
       "        vertical-align: top;\n",
       "    }\n",
       "\n",
       "    .dataframe thead th {\n",
       "        text-align: right;\n",
       "    }\n",
       "</style>\n",
       "<table border=\"1\" class=\"dataframe\">\n",
       "  <thead>\n",
       "    <tr style=\"text-align: right;\">\n",
       "      <th></th>\n",
       "      <th>id</th>\n",
       "      <th>Cast</th>\n",
       "      <th>directors</th>\n",
       "    </tr>\n",
       "  </thead>\n",
       "  <tbody>\n",
       "    <tr>\n",
       "      <th>0</th>\n",
       "      <td>862</td>\n",
       "      <td>[{'character': 'Woody (voice)', 'gender': 2, '...</td>\n",
       "      <td>[John Lasseter]</td>\n",
       "    </tr>\n",
       "  </tbody>\n",
       "</table>\n",
       "</div>"
      ],
      "text/plain": [
       "    id                                               Cast        directors\n",
       "0  862  [{'character': 'Woody (voice)', 'gender': 2, '...  [John Lasseter]"
      ]
     },
     "execution_count": 98,
     "metadata": {},
     "output_type": "execute_result"
    }
   ],
   "source": [
    "def remove_unwanted_keys(cast):\n",
    "    keys_to_remove = ['profile_path', 'credit_id', 'cast_id', 'order']\n",
    "    if isinstance(cast, list):\n",
    "        return [{k: v for k, v in member.items() if k not in keys_to_remove} for member in cast]\n",
    "    return []\n",
    "\n",
    "newCredits['Cast'] = newCredits['Cast'].apply(remove_unwanted_keys)\n",
    "newCredits.head(1)"
   ]
  },
  {
   "cell_type": "code",
   "execution_count": 99,
   "metadata": {},
   "outputs": [],
   "source": [
    "#newCredits.to_pickle('newCredits.pkl')"
   ]
  },
  {
   "cell_type": "code",
   "execution_count": 100,
   "metadata": {},
   "outputs": [
    {
     "data": {
      "text/plain": [
       "45476"
      ]
     },
     "execution_count": 100,
     "metadata": {},
     "output_type": "execute_result"
    }
   ],
   "source": [
    "len(newCredits)"
   ]
  },
  {
   "cell_type": "code",
   "execution_count": 101,
   "metadata": {},
   "outputs": [
    {
     "name": "stdout",
     "output_type": "stream",
     "text": [
      "3509\n",
      "IDs con coincidencias: {16387, 163845, 16391, 16392, 40969, 57353, 16395, 385031, 49160, 8209, 40979, 16403, 262165, 8216, 26, 24603, 40990, 139302, 98344, 65576, 24619, 122924, 24624, 122928, 122930, 294963, 16437, 262199, 57403, 139325, 114750, 98368, 98369, 68, 49220, 254023, 73800, 16455, 32845, 8274, 344147, 286805, 86, 32855, 114776, 91, 57436, 49250, 32872, 401513, 139374, 188529, 262260, 90231, 8316, 16515, 8326, 8332, 73869, 139406, 32911, 143, 123025, 180371, 148, 8341, 8342, 327833, 336029, 180383, 41123, 57510, 204968, 24757, 41142, 41141, 245950, 49347, 8388, 24775, 57544, 32969, 73935, 450768, 212, 90324, 216, 24794, 254172, 221, 32990, 286940, 8416, 73952, 229, 234, 16619, 73963, 114922, 385261, 57585, 147698, 278772, 24821, 247, 33016, 16633, 8440, 262391, 254200, 98557, 41214, 24831, 255, 16632, 139521, 65796, 24837, 262, 98567, 8457, 8460, 131343, 273, 336149, 98582, 418072, 352539, 418078, 24869, 8490, 16687, 221488, 309, 24885, 311, 57655, 315, 316, 318, 262474, 332, 270668, 434510, 24913, 342, 343, 344, 24925, 106845, 368993, 147815, 24936, 49517, 16763, 383, 442752, 16771, 82309, 115084, 33166, 57743, 57744, 41360, 262543, 139662, 404, 406, 407, 82327, 24985, 393629, 156063, 65953, 147876, 270766, 65967, 16820, 438, 303542, 49594, 49600, 41411, 139715, 188870, 41417, 8649, 65994, 352720, 466, 180691, 468, 57812, 82394, 8669, 49633, 57825, 8675, 33251, 41445, 66027, 164331, 8689, 57843, 123389, 393729, 254472, 205321, 82450, 49683, 57876, 25111, 328216, 16921, 540, 542, 98851, 82469, 25126, 8744, 49704, 66092, 82477, 246320, 41521, 320048, 369202, 82485, 279096, 41530, 572, 66110, 25151, 41536, 66113, 49729, 41545, 139854, 361042, 16980, 596, 33365, 426580, 164443, 25180, 25189, 16999, 131689, 41579, 624, 17010, 41587, 254582, 632, 633, 262788, 98948, 8838, 17037, 320146, 8851, 320150, 25239, 164502, 74394, 205466, 197276, 669, 8867, 49830, 139945, 8875, 49835, 443053, 74415, 8880, 8881, 8883, 8884, 17077, 49848, 172729, 82618, 385722, 33468, 41662, 8895, 58048, 8896, 8898, 17086, 25284, 33477, 33476, 33470, 254664, 17097, 8906, 33482, 41678, 164558, 352978, 148184, 238302, 172767, 8930, 33518, 33519, 8942, 753, 131822, 17139, 123634, 303856, 25335, 8953, 115451, 766, 172803, 25350, 775, 776, 74505, 115463, 189197, 17168, 181009, 295698, 33555, 271124, 402193, 271120, 8985, 8987, 17182, 303903, 99104, 287524, 74536, 66346, 811, 82731, 295723, 58159, 74544, 815, 58160, 312113, 33586, 74555, 828, 49981, 9022, 831, 394047, 74561, 41796, 839, 41800, 49991, 9034, 9035, 90957, 271185, 58194, 74586, 33627, 115547, 287581, 9054, 50023, 50025, 238442, 876, 880, 41841, 58227, 884, 25460, 25462, 50037, 369524, 50042, 58235, 9086, 271234, 900, 9092, 25476, 17285, 9096, 336775, 140172, 74639, 912, 9104, 295823, 17303, 922, 25499, 205724, 17306, 17314, 931, 50085, 17317, 410537, 345003, 74674, 17334, 99254, 66488, 961, 74692, 123846, 377799, 115656, 295886, 975, 91088, 41940, 986, 987, 74714, 991, 17375, 271331, 25571, 17381, 123879, 74727, 50153, 41967, 41974, 402423, 197624, 41980, 238589, 58365, 1023, 173056, 25602, 107525, 17414, 33801, 25610, 74777, 115738, 25625, 369698, 17445, 132137, 9260, 156717, 17455, 17456, 1073, 9275, 123964, 17470, 9282, 91205, 58443, 312399, 58448, 9300, 205908, 9302, 9304, 140380, 17501, 42078, 9311, 402529, 25698, 42082, 42086, 66668, 173165, 25713, 369778, 189556, 33914, 25723, 361597, 9343, 9349, 328840, 25741, 66701, 50317, 25753, 25754, 25755, 115871, 173224, 17577, 50346, 83114, 214187, 263341, 25778, 83125, 33974, 66745, 9405, 50365, 9407, 17600, 17599, 287935, 287940, 214217, 140489, 214219, 132298, 34004, 345306, 66780, 58589, 9438, 34014, 9440, 17632, 50400, 9445, 173288, 9449, 214250, 9456, 9458, 50420, 83188, 25846, 132342, 263416, 1279, 107775, 9473, 42241, 58626, 394499, 58631, 1294, 75033, 304410, 9501, 255268, 9510, 58664, 17709, 255278, 263471, 34098, 140595, 296244, 9526, 9534, 25918, 9536, 197950, 99650, 9539, 66881, 58692, 25934, 9551, 25936, 1362, 116059, 75101, 9568, 279914, 42347, 9583, 25968, 25967, 9587, 17780, 9592, 148857, 34170, 230779, 1405, 66942, 1410, 9603, 1412, 34179, 17794, 288130, 34182, 58760, 124294, 173443, 17806, 58770, 83346, 157075, 17814, 9623, 66966, 9625, 140697, 288154, 50587, 58781, 214430, 1439, 91551, 26010, 279966, 9636, 58788, 411054, 296367, 279988, 17845, 50618, 99770, 26042, 394684, 75198, 427451, 91586, 75204, 1479, 9674, 1483, 1485, 9678, 140750, 222671, 58832, 411088, 9686, 1494, 312791, 9689, 50652, 9696, 452068, 304613, 17894, 9702, 402919, 9706, 9707, 91627, 378350, 50671, 9713, 50673, 9716, 17908, 17909, 9721, 361980, 17918, 17919, 9727, 9729, 42497, 34308, 50698, 1548, 50700, 1550, 26127, 321039, 9745, 58899, 17940, 58903, 296472, 9753, 9755, 17949, 34335, 9761, 9764, 17961, 17962, 58923, 17965, 26165, 1590, 75317, 26171, 1599, 9793, 42561, 9796, 214597, 50765, 58959, 124501, 411221, 9815, 42585, 255577, 149085, 9822, 50785, 75363, 50789, 173672, 353898, 42603, 83566, 9839, 9840, 42607, 263794, 108147, 42615, 26233, 157305, 18045, 18046, 59006, 83583, 18050, 91781, 34444, 1678, 9871, 34449, 18070, 1686, 280218, 34461, 132765, 18079, 50848, 34463, 255647, 42661, 91817, 198317, 34479, 26291, 9912, 157370, 42683, 26300, 18111, 1727, 42688, 18118, 42701, 42702, 26326, 9945, 419546, 403163, 9948, 116445, 18147, 9955, 468707, 59111, 9960, 59115, 9964, 206574, 9968, 59120, 149232, 362227, 9973, 1782, 18175, 42754, 42758, 141063, 83721, 1803, 26379, 34573, 18191, 1809, 10007, 83735, 10009, 18202, 321303, 403232, 444193, 116514, 18214, 173865, 141102, 18223, 100152, 26425, 10041, 75579, 345914, 10046, 354110, 10050, 345922, 329540, 10056, 18248, 18250, 296778, 51021, 1874, 59219, 329556, 1877, 165718, 100183, 83801, 173914, 1884, 34653, 92000, 18273, 26466, 51044, 18279, 75626, 165739, 1899, 264048, 18289, 182131, 42870, 1912, 10105, 100224, 26505, 75657, 10124, 10130, 51090, 1940, 10133, 26518, 92060, 42910, 34723, 1956, 42916, 1958, 1963, 51122, 337844, 18357, 10165, 10167, 1976, 51129, 26554, 10170, 83900, 67509, 26558, 419771, 10176, 10177, 239553, 10179, 42949, 42952, 18377, 1994, 182219, 92108, 214990, 1999, 2000, 239568, 2002, 18387, 182228, 26581, 92117, 26583, 18392, 75736, 42966, 2011, 42971, 10209, 10210, 2017, 10212, 10213, 10214, 165864, 157674, 18415, 411632, 18417, 354287, 18420, 51190, 329718, 411638, 321530, 2042, 34812, 2045, 26623, 10242, 190469, 141319, 92168, 59401, 18442, 10251, 18443, 83980, 239628, 18451, 34836, 2072, 59421, 10270, 26655, 18467, 2084, 43045, 18472, 2089, 67626, 2091, 280617, 18477, 460846, 18480, 59441, 51250, 10292, 26676, 2102, 26680, 26682, 51260, 2110, 133183, 10304, 59457, 26687, 51267, 18502, 51270, 264264, 51281, 34898, 43090, 18516, 75861, 2134, 362583, 411736, 51290, 256092, 133213, 18530, 51300, 10341, 26725, 321644, 10350, 43120, 10355, 10357, 2165, 354421, 2168, 51322, 26750, 10370, 223365, 2182, 10376, 10378, 2186, 84106, 43149, 100493, 157843, 2197, 10390, 10391, 26774, 75926, 10396, 26787, 10410, 215211, 34989, 10416, 108723, 100532, 18616, 100540, 26815, 100544, 166085, 18632, 18634, 10445, 43213, 35026, 2259, 84179, 43219, 288980, 26843, 133339, 157919, 10468, 51428, 239845, 10472, 26857, 84203, 26860, 76012, 10480, 18672, 321779, 26872, 2297, 18681, 354556, 84228, 2312, 141581, 10513, 166161, 18707, 182548, 239895, 2331, 26910, 51490, 10535, 10536, 395560, 35114, 67884, 51501, 92465, 43317, 26946, 10563, 428356, 43332, 35138, 76101, 67911, 76099, 76105, 26954, 100683, 26956, 92493, 10572, 10575, 272720, 35153, 10579, 76122, 35165, 387426, 10596, 10598, 43367, 26985, 10603, 10604, 264555, 10606, 215407, 117102, 10610, 166262, 346490, 35196, 10620, 27007, 10630, 18826, 330127, 2447, 10641, 18836, 43417, 43418, 10651, 207260, 403867, 10653, 10654, 27040, 190880, 59807, 51620, 248231, 43432, 84404, 18874, 59835, 10685, 10687, 10692, 18884, 18886, 133575, 158150, 76234, 10699, 59852, 27085, 10705, 27090, 10706, 18897, 10710, 256474, 92635, 2525, 84449, 18916, 10726, 305638, 305642, 59883, 27122, 10740, 10744, 18940, 363007, 68098, 10759, 444935, 59914, 10763, 59917, 2576, 2577, 346641, 2587, 2588, 10781, 100894, 10783, 10784, 43549, 125472, 10787, 18979, 10788, 18983, 354857, 10794, 109099, 412202, 43566, 10798, 10800, 191024, 18994, 256561, 125490, 412209, 10806, 35379, 166452, 76348, 76354, 10822, 248390, 43600, 10833, 51794, 305747, 10836, 297556, 10839, 51800, 68184, 43612, 10845, 10846, 27230, 19039, 84577, 84575, 43619, 27236, 2661, 428645, 60009, 68202, 354924, 51822, 100975, 51832, 60025, 10875, 19067, 297596, 10880, 10886, 27270, 60041, 19082, 10891, 2699, 2701, 174733, 240268, 232078, 76438, 10908, 19101, 10910, 199327, 19106, 232100, 10922, 19116, 314029, 2734, 256687, 215726, 10929, 174772, 2742, 27322, 215741, 2752, 27328, 10947, 2760, 10955, 2767, 19152, 27346, 84690, 60119, 51929, 158426, 10971, 322266, 51933, 43742, 10974, 19166, 51935, 2786, 183011, 142052, 256740, 289510, 158431, 166624, 10985, 43754, 51946, 142061, 289519, 109298, 19187, 109301, 76535, 27387, 11004, 19197, 27390, 199420, 191231, 436994, 11011, 60164, 84742, 109323, 19213, 2830, 68365, 174865, 68370, 11027, 27412, 27414, 166680, 2841, 51995, 60189, 133919, 19236, 11044, 27429, 27431, 11050, 133931, 52011, 35626, 43829, 27449, 11069, 11071, 11074, 68419, 35652, 68427, 19275, 52044, 2895, 11088, 60243, 27476, 420703, 76640, 35683, 240483, 11109, 27495, 11111, 11114, 52077, 273261, 27503, 84848, 35696, 11119, 248688, 27507, 215924, 27509, 117618, 27511, 11127, 68472, 109435, 248705, 134018, 35716, 199556, 248710, 52105, 60302, 19344, 11152, 2963, 93077, 363413, 35733, 76696, 27545, 207769, 11163, 215962, 27548, 27554, 256930, 93091, 19365, 19366, 215976, 27561, 191402, 84907, 35759, 2994, 199602, 11188, 281524, 289720, 273341, 289728, 117700, 76746, 322506, 60366, 84942, 109520, 27601, 216016, 35796, 84951, 183258, 11227, 11229, 3037, 3043, 101352, 11244, 3053, 11246, 257004, 3059, 27636, 191476, 265208, 150523, 27645, 27646, 207871, 396289, 314371, 93188, 44037, 412678, 199687, 35851, 330764, 44046, 35854, 76815, 27662, 257039, 27671, 19486, 52256, 11297, 158752, 314405, 3111, 3112, 11305, 3114, 19495, 11308, 27696, 3121, 52273, 35891, 322614, 85047, 298040, 142391, 363579, 44092, 27711, 126016, 27712, 109632, 257087, 11335, 60489, 27723, 68684, 27725, 11342, 11343, 19542, 412758, 11353, 27740, 240733, 11359, 19551, 109667, 35939, 52323, 248933, 44133, 11368, 3177, 35946, 3179, 388202, 11374, 167032, 27770, 11388, 60540, 19592, 183433, 27793, 388243, 11415, 11417, 19611, 27804, 11423, 11424, 44191, 11425, 117923, 158884, 27813, 11429, 27815, 363683, 19624, 380075, 60592, 388273, 11443, 117942, 52406, 27832, 44216, 322745, 371899, 19644, 11457, 11458, 11463, 77000, 27854, 158928, 19665, 93394, 134355, 44247, 11481, 117978, 52444, 11485, 52452, 330982, 199916, 11509, 347382, 11511, 52473, 60670, 44289, 19713, 19719, 167179, 19724, 11533, 36109, 27919, 19728, 19723, 109843, 11540, 240916, 347413, 19738, 11549, 363805, 363807, 322850, 363810, 101669, 159014, 109861, 27944, 118059, 11564, 36141, 36142, 36139, 159024, 11570, 216374, 19766, 11583, 159039, 363841, 27969, 11588, 27973, 11591, 93511, 11598, 273743, 19792, 36194, 36206, 19823, 208242, 36211, 68979, 159092, 126323, 28019, 363890, 44411, 28028, 28029, 44413, 413052, 36224, 126337, 77185, 11651, 28036, 216457, 36234, 19851, 52620, 118154, 44425, 36243, 363925, 11676, 36259, 77223, 282024, 36272, 77234, 85430, 3511, 44470, 3513, 28090, 11708, 69054, 273856, 11713, 77250, 19905, 85444, 339396, 3527, 36299, 69069, 52685, 331214, 216529, 69075, 273879, 3547, 101852, 19933, 298459, 19939, 3558, 28136, 224746, 93676, 19952, 36337, 52725, 36344, 11773, 36351, 11777, 44546, 3587, 273922, 11782, 28170, 3598, 413198, 44560, 28177, 364051, 28180, 52758, 11801, 44571, 28188, 298533, 60965, 11817, 11820, 44593, 11826, 11827, 52788, 405050, 11838, 11839, 208447, 421443, 52803, 314952, 20043, 44625, 11860, 85589, 298582, 20055, 36443, 11868, 20065, 52837, 44646, 11879, 3687, 233063, 183910, 61038, 11888, 69234, 20083, 11899, 11900, 118397, 11902, 192126, 28288, 11904, 11905, 134782, 44673, 11909, 11910, 11911, 282248, 388256, 347786, 20107, 44687, 20115, 77459, 85657, 11930, 11934, 11935, 20128, 69278, 93855, 36511, 11942, 52903, 11944, 44716, 44718, 315055, 421550, 11954, 224946, 3766, 11959, 11958, 77495, 282297, 282298, 28349, 274109, 11971, 61125, 44745, 159434, 11983, 192210, 405203, 405204, 20181, 339669, 298721, 36583, 36584, 134890, 85739, 118513, 77561, 290555, 290556, 36614, 61194, 36618, 20236, 413452, 200462, 53010, 28437, 85788, 53021, 3870, 126749, 347938, 44839, 241448, 143144, 53035, 20268, 12079, 28465, 12086, 36663, 159550, 12095, 44864, 347968, 347969, 331588, 249677, 36686, 102222, 85841, 257874, 28499, 12117, 20309, 28503, 20312, 12121, 28504, 184155, 53080, 28509, 94047, 12128, 323426, 44900, 28522, 61293, 61294, 110447, 12146, 69492, 20343, 356216, 20345, 364410, 36738, 44932, 12165, 257932, 20367, 69520, 364433, 44947, 36759, 20375, 12184, 36762, 28571, 102295, 44951, 307103, 12192, 77728, 53157, 12198, 307113, 28585, 36784, 44978, 290739, 53178, 20411, 36797, 44991, 4032, 36800, 36799, 77765, 69576, 356296, 12235, 85966, 12245, 45013, 151509, 12251, 61404, 28640, 20449, 61410, 12261, 208869, 20455, 339944, 77801, 12271, 20465, 36851, 86004, 94196, 12280, 135161, 364540, 77821, 28671, 69636, 28677, 290825, 438283, 28684, 28686, 53263, 28687, 233487, 110608, 20499, 184341, 12312, 339992, 184346, 241693, 45096, 135210, 167983, 36915, 77875, 77879, 135225, 20539, 20540, 28733, 20542, 69696, 413762, 28739, 45127, 53319, 323656, 4170, 28746, 241739, 364615, 430161, 45145, 397403, 241765, 45162, 45167, 12400, 315509, 20605, 4226, 77955, 102534, 340103, 61580, 45202, 37019, 4255, 20640, 53413, 12454, 37032, 37034, 20651, 118957, 61613, 168112, 4274, 20668, 12477, 12479, 37056, 12481, 86209, 12483, 12484, 135362, 61638, 86215, 20682, 241868, 61644, 61647, 331985, 61650, 12499, 53459, 250066, 37080, 45273, 28891, 28893, 78049, 61667, 102629, 12518, 102630, 28910, 422127, 28925, 12542, 4351, 86279, 28940, 28941, 28942, 4368, 168210, 356626, 61717, 78101, 225564, 86305, 102691, 28966, 151848, 37168, 12593, 28978, 37169, 12596, 12597, 12594, 389425, 86331, 53565, 160070, 110919, 37198, 37206, 61783, 53596, 12636, 78177, 37218, 94563, 12647, 29032, 20842, 37227, 12651, 12653, 250219, 242033, 12658, 37234, 250225, 209266, 160118, 70006, 70008, 250230, 20858, 348537, 405882, 151933, 94590, 323967, 4480, 94592, 29058, 455043, 61828, 184710, 332168, 29066, 12683, 160139, 12685, 209293, 29071, 127375, 12689, 258450, 119193, 12699, 20893, 12703, 242083, 37284, 201124, 225703, 192936, 37291, 201132, 29101, 94643, 29109, 242102, 4552, 250312, 209355, 168399, 307663, 102871, 160220, 53729, 266723, 78308, 12775, 29159, 29161, 315880, 4588, 332270, 414190, 4593, 45556, 20981, 61940, 332285, 373247, 20993, 12802, 78339, 348675, 348677, 53774, 193040, 12818, 4627, 45593, 12828, 127521, 291362, 299553, 21026, 37414, 78381, 61998, 61999, 21041, 86577, 397873, 78387, 29237, 143928, 201274, 201277, 283201, 373314, 86597, 94792, 29266, 447061, 62040, 4703, 316002, 29286, 78441, 29293, 53870, 12914, 37498, 21115, 53882, 78461, 37502, 332411, 119425, 193154, 86658, 242310, 119431, 119430, 45708, 45712, 21137, 53905, 53906, 21143, 135832, 4762, 62106, 37532, 45725, 324260, 62127, 62128, 45745, 135858, 86707, 21175, 94904, 29369, 217787, 45757, 168643, 340677, 29383, 13008, 45778, 45779, 13012, 250578, 13016, 4825, 13019, 29406, 324322, 78573, 209645, 29424, 29425, 13041, 29426, 250608, 54000, 316154, 21244, 29437, 13054, 13055, 54013, 21252, 299782, 13063, 37641, 381707, 37645, 201485, 37653, 29463, 29464, 13079, 127770, 4896, 86817, 29478, 168742, 29481, 29483, 4910, 70447, 21295, 4913, 62255, 29491, 299822, 78646, 422715, 21309, 21311, 13120, 37695, 13122, 13123, 29512, 29514, 37707, 37714, 37715, 324436, 4949, 414547, 4954, 4960, 4965, 103269, 13159, 13160, 21355, 21356, 316269, 447352, 13179, 29564, 127872, 54144, 13186, 13192, 45961, 29582, 144271, 29584, 13200, 70546, 37779, 242575, 45966, 21398, 127894, 13209, 70554, 406429, 349086, 95136, 127905, 95140, 21413, 13221, 127913, 29611, 70577, 185267, 70584, 308160, 13250, 13251, 13252, 37828, 37833, 13257, 13259, 46026, 144331, 62409, 46025, 46028, 340945, 37843, 431093, 332794, 54271, 13312, 259072, 21506, 70656, 250880, 21509, 13321, 70667, 37900, 341006, 37903, 5139, 46101, 201749, 46103, 13336, 13337, 250902, 152603, 70687, 13343, 5153, 201759, 5157, 54313, 54315, 29740, 308269, 13358, 37935, 5168, 54320, 13360, 54328, 5178, 46138, 283708, 300090, 29760, 13377, 193603, 21575, 332872, 5201, 13394, 5203, 21588, 5205, 5204, 5206, 119892, 62564, 185444, 29797, 29798, 54380, 5237, 46198, 201847, 373878, 300153, 21627, 185471, 111744, 226437, 21641, 46221, 38031, 226448, 51522, 87190, 70806, 62614, 185497, 38046, 29854, 29856, 357540, 54445, 382127, 38065, 13491, 13492, 95414, 13498, 144570, 193722, 29883, 160960, 13507, 54469, 62664, 13519, 390353, 13528, 152792, 185562, 70875, 111839, 79072, 185567, 29923, 95466, 54509, 29938, 38135, 13560, 13561, 29946, 38142, 13567, 54527, 382207, 21765, 46342, 13576, 218381, 21775, 136466, 128280, 38171, 46364, 136476, 54558, 46368, 13611, 13613, 13617, 308529, 103732, 13621, 62775, 38199, 54583, 210234, 259389, 95555, 30019, 30023, 13640, 38223, 169298, 120149, 38234, 46429, 30049, 54625, 54627, 316776, 13673, 71016, 5483, 21867, 79212, 30062, 13678, 234862, 226672, 120172, 316784, 21876, 415086, 21878, 5494, 30082, 13699, 13701, 54662, 439695, 169364, 38295, 357784, 13721, 13722, 13723, 62871, 177566, 46498, 161187, 38318, 21935, 5552, 325039, 38325, 13752, 234937, 46522, 21948, 13757, 398786, 300487, 112072, 46541, 21972, 46548, 13783, 161246, 398818, 46563, 13797, 202214, 13803, 13807, 22004, 30197, 62967, 46584, 407036, 38399, 62976, 202241, 46595, 22021, 13830, 22023, 38407, 112136, 95755, 22033, 415255, 13848, 13851, 13853, 22048, 46625, 112162, 103971, 136741, 54821, 71208, 54825, 22059, 22060, 5677, 218670, 398891, 128564, 54837, 54838, 300600, 22073, 22076, 194113, 54850, 5698, 63044, 251471, 54865, 30289, 22100, 71254, 5719, 13915, 30302, 63077, 5741, 54894, 5742, 54893, 54900, 284279, 46713, 30330, 30331, 251516, 415358, 300672, 13956, 13957, 226948, 46727, 22152, 46729, 13962, 46734, 38543, 54928, 13969, 284306, 374416, 22164, 22167, 71322, 22171, 54940, 267931, 120478, 13984, 300706, 169634, 30374, 366249, 13995, 13998, 112304, 30385, 14002, 30388, 374452, 79544, 292539, 374461, 79550, 251584, 79553, 30402, 54979, 235208, 177865, 71370, 14029, 71373, 136911, 14034, 5842, 79570, 46812, 186079, 30432, 55011, 55012, 14053, 390883, 63207, 38629, 14057, 55018, 14062, 14063, 325358, 30449, 333555, 374515, 55045, 55049, 5898, 120587, 14098, 22293, 14103, 46871, 96026, 55069, 169758, 79649, 22307, 46891, 284460, 14128, 5937, 186161, 14135, 22327, 14138, 30527, 14145, 38722, 87874, 79684, 399173, 227143, 112456, 128841, 46924, 63310, 202575, 5968, 407375, 79698, 5971, 14164, 30548, 79699, 71511, 14171, 14173, 14174, 145247, 38753, 14180, 63333, 30566, 55144, 55146, 5994, 38765, 55149, 55152, 14195, 30579, 79733, 63350, 14202, 30588, 227196, 71548, 6020, 71559, 268171, 169869, 14223, 63375, 63378, 22419, 161683, 55190, 407448, 14234, 30618, 30619, 14240, 38821, 14245, 30633, 6058, 30634, 104364, 30637, 55215, 22448, 30641, 391088, 30645, 14262, 6071, 137145, 38842, 14267, 227257, 14269, 47038, 14277, 71626, 14284, 22479, 79825, 88018, 358353, 22484, 137174, 63447, 55256, 55257, 6106, 14299, 38874, 47065, 325592, 301016, 79842, 120802, 366564, 96231, 14317, 63474, 47090, 71670, 22520, 14330, 71677, 55294, 301056, 22536, 47120, 47122, 6163, 120850, 79893, 22554, 227359, 71714, 79911, 96306, 423988, 170039, 14392, 14394, 30779, 47166, 79935, 14400, 30785, 366656, 47177, 325712, 243794, 30806, 47194, 112731, 251994, 30815, 14440, 79983, 22640, 219247, 22642, 14452, 14458, 39037, 137347, 47237, 14474, 39053, 211086, 243856, 96404, 30870, 22681, 30875, 55457, 80034, 194722, 14503, 30890, 325803, 301228, 301229, 153779, 14518, 137400, 440508, 153795, 80070, 30923, 30924, 22733, 55500, 391375, 170194, 14547, 260310, 14552, 22745, 14556, 30941, 22750, 14565, 14569, 14573, 14575, 14576, 39154, 424182, 6391, 334074, 55547, 399612, 39164, 39166, 22784, 121091, 71943, 22792, 71945, 301325, 178446, 39183, 88338, 211220, 96534, 30999, 383256, 31002, 47386, 63774, 129311, 22817, 350499, 22820, 14629, 39210, 47407, 317744, 14642, 14643, 63795, 203060, 47410, 88377, 121147, 31037, 55616, 31042, 14662, 6470, 6472, 39241, 268618, 47435, 366924, 72013, 6478, 309579, 80210, 416086, 14681, 14687, 39264, 285025, 72032, 88418, 14695, 276839, 14698, 342381, 55662, 211317, 293238, 96631, 6521, 6523, 137599, 88451, 47491, 39303, 186759, 47497, 326029, 80271, 39314, 260500, 293271, 31129, 47518, 88478, 72096, 14753, 121250, 367006, 375199, 14757, 276902, 31142, 416166, 31150, 399790, 47540, 260535, 55741, 6593, 293313, 391617, 14788, 80327, 252360, 96713, 440777, 22984, 195022, 55762, 14805, 14806, 55765, 14809, 432602, 63963, 31196, 6623, 137698, 63971, 342502, 55784, 39401, 80362, 317930, 14831, 186869, 23030, 285176, 154105, 14842, 113148, 14847, 80389, 39433, 39436, 14862, 39446, 399894, 14872, 80410, 170522, 14877, 64029, 39458, 121379, 39462, 47655, 39464, 137769, 39466, 301608, 39468, 383535, 383538, 186935, 318007, 23101, 14913, 31299, 293444, 375366, 326215, 211528, 293452, 55890, 80468, 55895, 457307, 244316, 293471, 39522, 186982, 113255, 293491, 268917, 178809, 55931, 309886, 309887, 408194, 14979, 195204, 47753, 23178, 408203, 326284, 80539, 23196, 268956, 309919, 23200, 23202, 301730, 15012, 277154, 72359, 15017, 15024, 244403, 31414, 96951, 15039, 252607, 334527, 228034, 334531, 424643, 195269, 15056, 15058, 15059, 154326, 15067, 121565, 334557, 137955, 64228, 47845, 15084, 137968, 15102, 170752, 293633, 121602, 269057, 6917, 228101, 23303, 15124, 15125, 6933, 293654, 6936, 31516, 47904, 31527, 146216, 15149, 56109, 15157, 146229, 6967, 6968, 351037, 154430, 15166, 351043, 80708, 64325, 31563, 72525, 56146, 47955, 105299, 162643, 260947, 23383, 31583, 39775, 31586, 7010, 31593, 15212, 179053, 56180, 31611, 383869, 31618, 392067, 23427, 15237, 48011, 19312, 48016, 15250, 252822, 31640, 31642, 31643, 31646, 31647, 39844, 293796, 31657, 351145, 56235, 261037, 129966, 31667, 7093, 277432, 39867, 31675, 39868, 326591, 72640, 31682, 39874, 15300, 80837, 359364, 220106, 39882, 146381, 179154, 23506, 31701, 15319, 179159, 302042, 23515, 15324, 39899, 56296, 15338, 23531, 64494, 23538, 15346, 359412, 64502, 293880, 39938, 48130, 15362, 56325, 400387, 80911, 23568, 23570, 15378, 384021, 23574, 89116, 15389, 97310, 80928, 23592, 277546, 23594, 359471, 187442, 408626, 7229, 72766, 72767, 195651, 89156, 302150, 343112, 64586, 15434, 80973, 31821, 392271, 121936, 179288, 113752, 40026, 113757, 293982, 48227, 56428, 40047, 48243, 15476, 7290, 220287, 15493, 72843, 179340, 121998, 228496, 72852, 89242, 15515, 15516, 40095, 56491, 72881, 31922, 7347, 7348, 56500, 15542, 269495, 23729, 122044, 31935, 236737, 122052, 376004, 146631, 31945, 335053, 23761, 72913, 89309, 163042, 15588, 40168, 40171, 97519, 343284, 72951, 195834, 15618, 32005, 48392, 48395, 302349, 56590, 277778, 15641, 40220, 81182, 48417, 228642, 40231, 23854, 32048, 40241, 122163, 32052, 40247, 220471, 359736, 40249, 40254, 81215, 15681, 81220, 48463, 277839, 179538, 73043, 64852, 32085, 15701, 7511, 261461, 15705, 253279, 89445, 392554, 48495, 400753, 7547, 114044, 15741, 114046, 392572, 97666, 23945, 89481, 73099, 32144, 40341, 40342, 15767, 32151, 40343, 15774, 302496, 56745, 40364, 32173, 64944, 23988, 89531, 97724, 15803, 15809, 81347, 15813, 376263, 138697, 32202, 64972, 32206, 64976, 269776, 24019, 253395, 122326, 105945, 24034, 15846, 15849, 48620, 15855, 15856, 89584, 114162, 15859, 24051, 138735, 24056, 97784, 32250, 73211, 81400, 40448, 24065, 138754, 212481, 89604, 97797, 24070, 146955, 212494, 24079, 40465, 40467, 65048, 56860, 24094, 73250, 15907, 106021, 81446, 15915, 24109, 15917, 335409, 32307, 89659, 24124, 81475, 89670, 65096, 376394, 73290, 114255, 56913, 40537, 319067, 278111, 48737, 56929, 122466, 48746, 15978, 89708, 81521, 40562, 179826, 56948, 48761, 81534, 106112, 335490, 16003, 32387, 56965, 376453, 32395, 196235, 48784, 204435, 204436, 97942, 40599, 16028, 24221, 24220, 106143, 130717, 57000, 343724, 253612, 97971, 40634, 138941, 130754, 97987, 188102, 32458, 16074, 40652, 16077, 24269, 24271, 65229, 24273, 40660, 335578, 16093, 24285, 138977, 7916, 401132, 32499, 16119, 163583, 16139, 81675, 65291, 212747, 16146, 16147, 89877, 16154, 73501, 81694, 24351, 16159, 7974, 7978, 73515, 7983, 89904, 7985, 327476, 81720, 360249, 73532, 40769, 24392, 73548, 8014, 24402, 65364, 294741, 65367, 16225, 32613, 32617, 16233, 311146, 8056, 57209, 262009, 8060, 8063, 180095, 8067, 24452, 16261, 49028, 8072, 16266, 270221, 32654, 73614, 401294, 417678, 360339, 8088, 40864, 57248, 81829, 32678, 16296, 122800, 16305, 180147, 122804, 32695, 245692, 57278, 40895, 360387, 352200, 98250, 286668, 147405, 81870, 16335, 65488, 352205, 40920, 131039, 57313, 24546, 24548, 344041, 24559, 57330, 57331, 286709}\n",
      "Número de coincidencias: 3505\n",
      "41965\n"
     ]
    },
    {
     "data": {
      "text/plain": [
       "Index(['id', 'Cast', 'directors'], dtype='object')"
      ]
     },
     "execution_count": 101,
     "metadata": {},
     "output_type": "execute_result"
    }
   ],
   "source": [
    "# Filtrar las filas donde 'return' es 0\n",
    "vacios = df_movies[df_movies['return'] == 0]\n",
    "print(len(vacios))\n",
    "# Obtener los IDs de 'vacios' y 'newCredits'\n",
    "ids_vacios = set(vacios['id'])\n",
    "ids_newCredits = set(newCredits['id'])\n",
    "\n",
    "# Encontrar las coincidencias\n",
    "coincidencias = ids_vacios & ids_newCredits\n",
    "\n",
    "# Eliminar las filas cuyos 'id' están en las coincidencias\n",
    "newCredits = newCredits[~newCredits['id'].isin(coincidencias)]\n",
    "\n",
    "print(\"IDs con coincidencias:\", coincidencias)\n",
    "print(\"Número de coincidencias:\", len(coincidencias))\n",
    "print(len(newCredits))\n",
    "newCredits.columns\n",
    "\n"
   ]
  },
  {
   "cell_type": "code",
   "execution_count": 102,
   "metadata": {},
   "outputs": [],
   "source": [
    "newCredits.to_pickle('newCredits1.pkl')"
   ]
  }
 ],
 "metadata": {
  "kernelspec": {
   "display_name": "Python 3",
   "language": "python",
   "name": "python3"
  },
  "language_info": {
   "codemirror_mode": {
    "name": "ipython",
    "version": 3
   },
   "file_extension": ".py",
   "mimetype": "text/x-python",
   "name": "python",
   "nbconvert_exporter": "python",
   "pygments_lexer": "ipython3",
   "version": "3.12.3"
  }
 },
 "nbformat": 4,
 "nbformat_minor": 2
}
